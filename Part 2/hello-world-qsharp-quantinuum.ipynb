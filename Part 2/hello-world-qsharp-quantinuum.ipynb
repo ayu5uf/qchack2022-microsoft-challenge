{
  "cells": [
    {
      "cell_type": "markdown",
      "source": [
        "# 👋🌍 QC Hack 2022\n",
        "\n",
        "Project: Finding or counting patterns in images\n",
        "Specific case: searching for 4x4 patterns in 8x8 black-and-white images encoded using FRQI\n"
      ],
      "metadata": {},
      "id": "4f68bf86-fb3b-453a-85ae-dfa702070bd6"
    },
    {
      "cell_type": "markdown",
      "source": [
        "### 1. Connect to the Azure Quantum workspace\n",
        "\n",
        "To connect to the Azure Quantum service, call the `connect` function as seen below. This can take 30 seconds to run the first time, as the Q# environment is initializing."
      ],
      "metadata": {
        "nteract": {
          "transient": {
            "deleting": false
          }
        }
      },
      "id": "4b7e2f18-b0f8-41b5-9ec2-2907f47959e2"
    },
    {
      "cell_type": "code",
      "source": [
        "import qsharp.azure\n",
        "targets = qsharp.azure.connect(\n",
        "   resourceId=\"",\n",
        "   location=\"\")"
      ],
      "outputs": [
        {
          "output_type": "stream",
          "name": "stdout",
          "text": "Preparing Q# environment...\nAuthenticated using Microsoft.Azure.Quantum.Authentication.TokenFileCredential\n\n\nConnected to Azure Quantum workspace  in location .\n"
        }
      ],
      "execution_count": 1,
      "metadata": {},
      "id": "d171c652-649f-470d-a980-d02bae9a93db"
    },
    {
      "cell_type": "markdown",
      "source": [
        "We can use the resulting object to see which _targets_ are available for submission."
      ],
      "metadata": {
        "nteract": {
          "transient": {
            "deleting": false
          }
        }
      },
      "id": "ec76e61e-7f6f-41ef-afde-18a2a9271289"
    },
    {
      "cell_type": "code",
      "source": [
        "import qsharp\n",
        "\n",
        "print(\"This workspace's targets:\")\n",
        "for target in targets:\n",
        "    print(\"-\", target.id)"
      ],
      "outputs": [
        {
          "output_type": "stream",
          "name": "stdout",
          "text": "This workspace's targets:\n- ionq.qpu\n- ionq.simulator\n- quantinuum.hqs-lt-s1\n- quantinuum.hqs-lt-s1-apival\n- quantinuum.hqs-lt-s2\n- quantinuum.hqs-lt-s2-apival\n- quantinuum.hqs-lt-s1-sim\n- quantinuum.hqs-lt-s2-sim\n- quantinuum.hqs-lt\n"
        }
      ],
      "execution_count": 2,
      "metadata": {
        "jupyter": {
          "outputs_hidden": false,
          "source_hidden": false
        },
        "nteract": {
          "transient": {
            "deleting": false
          }
        }
      },
      "id": "50b2ba88-4597-465f-8b37-2f2800b341f0"
    },
    {
      "cell_type": "markdown",
      "source": [
        "Reference for the FRQI encoding: https://qiskit.org/textbook/ch-applications/image-processing-frqi-neqr.html#1.-The-FRQI-State"
      ],
      "metadata": {
        "nteract": {
          "transient": {
            "deleting": false
          }
        }
      },
      "id": "5b56c5cc-07ff-4066-aac8-c0d56cc3fe81"
    },
    {
      "cell_type": "code",
      "source": [
        "%%qsharp\n",
        "\n",
        "\n",
        "//it might be nice to declare a new type for an image\n",
        "//newtype FrqiImage = (Color: Qubit, XCoord:Qubits[3], YCoord:Qubits[3]);\n",
        "// Our register has 1 qubit for color (|0> is blank, |1> is colored), then 3 qubits for the x coordinate, then 3 qubits for the y coordinate\n",
        "// For example, if the pixel at coords (2,5) (0 indexed) is colored, then the state |1 010 101> will be part of the image superposition; if the pixel is blank, then we will have |0 010 101>\n",
        "\n",
        "\n",
        "\n",
        "open Microsoft.Quantum.Measurement;\n",
        "open Microsoft.Quantum.Arrays;\n",
        "open Microsoft.Quantum.Convert;\n",
        "\n",
        "\n",
        "// currently uses hardcoded size of 8x8\n",
        "// coloredPixels: array of pairs of coordinates, for example [[0,0], [4,5]]: the pixels at position (0,0) and (4,5) are colored\n",
        "operation BuildBasicFrqi(Color: Qubit, Coords:Qubit[], coloredPixels: Int[][]): Unit{\n",
        "    ApplyToEach(H, Coords);\n",
        "    for pixel in coloredPixels\n",
        "    {\n",
        "        let normalizedIndex = 8*pixel[0] + pixel[1];\n",
        "        ControlledOnInt(normalizedIndex, X)(Coords, Color);\n",
        "    }\n",
        "}"
      ],
      "outputs": [],
      "execution_count": 3,
      "metadata": {
        "microsoft": {
          "language": "qsharp"
        }
      },
      "id": "9deacc51-c2ea-43a3-a474-c4ff62798609"
    },
    {
      "cell_type": "markdown",
      "source": [
        "We can study the size of the circuit for various inputs. To be able to do that, we have to create a parametrized operation which returns a Result[]"
      ],
      "metadata": {
        "nteract": {
          "transient": {
            "deleting": false
          }
        }
      },
      "id": "af0ca8e0-21c1-453d-805b-80a88810b7d4"
    },
    {
      "cell_type": "code",
      "source": [
        "%%qsharp\r\n",
        "operation BasicFrqi(coloredPixels: Int[][]): Result[]\r\n",
        "{\r\n",
        "    use q=Qubit[7]\r\n",
        "    {\r\n",
        "        BuildBasicFrqi(q[0], q[1..6], coloredPixels);\r\n",
        "\r\n",
        "        return MultiM(q);\r\n",
        "    }\r\n",
        "}"
      ],
      "outputs": [],
      "execution_count": 4,
      "metadata": {
        "jupyter": {
          "source_hidden": false,
          "outputs_hidden": false
        },
        "nteract": {
          "transient": {
            "deleting": false
          }
        },
        "microsoft": {
          "language": "qsharp"
        }
      },
      "id": "6dab7e0d-60a0-47b1-bd38-7f8e06716d5c"
    },
    {
      "cell_type": "markdown",
      "source": [
        "Now we can simulate and estimate"
      ],
      "metadata": {
        "nteract": {
          "transient": {
            "deleting": false
          }
        }
      },
      "id": "e1019d45-800a-40a5-8728-2dc7ed8a548a"
    },
    {
      "cell_type": "code",
      "source": [
        "BasicFrqi(coloredPixels=[[0,0],[1,1],[2,2],[3,3],[4,4],[5,5],[6,6],[7,7]])"
      ],
      "outputs": [
        {
          "output_type": "execute_result",
          "execution_count": 7,
          "data": {
            "text/plain": "[1, 1, 0, 0, 1, 0, 0]"
          },
          "metadata": {}
        }
      ],
      "execution_count": 7,
      "metadata": {
        "jupyter": {
          "source_hidden": false,
          "outputs_hidden": false
        },
        "nteract": {
          "transient": {
            "deleting": false
          }
        }
      },
      "id": "786e2f79-fcf0-4fd7-b644-d3dc8afda26b"
    },
    {
      "cell_type": "code",
      "source": [
        "BasicFrqi.estimate_resources(coloredPixels=[[0,0],[1,1],[2,2],[3,3],[4,4],[5,5],[6,6],[7,7]])"
      ],
      "outputs": [
        {
          "output_type": "execute_result",
          "execution_count": 6,
          "data": {
            "text/plain": "{'CNOT': 720,\n 'QubitClifford': 198,\n 'R': 0,\n 'Measure': 7,\n 'T': 504,\n 'Depth': 328,\n 'Width': 11,\n 'QubitCount': 11,\n 'BorrowedWidth': 0}"
          },
          "metadata": {}
        }
      ],
      "execution_count": 6,
      "metadata": {
        "jupyter": {
          "source_hidden": false,
          "outputs_hidden": false
        },
        "nteract": {
          "transient": {
            "deleting": false
          }
        }
      },
      "id": "268bc5d9-a54b-4634-ad8c-1a81fcdc3d62"
    },
    {
      "cell_type": "code",
      "source": [
        "BasicFrqi.estimate_resources(coloredPixels=[[0,0]])"
      ],
      "outputs": [
        {
          "output_type": "execute_result",
          "execution_count": 8,
          "data": {
            "text/plain": "{'CNOT': 90,\n 'QubitClifford': 36,\n 'R': 0,\n 'Measure': 7,\n 'T': 63,\n 'Depth': 41,\n 'Width': 11,\n 'QubitCount': 11,\n 'BorrowedWidth': 0}"
          },
          "metadata": {}
        }
      ],
      "execution_count": 8,
      "metadata": {
        "jupyter": {
          "source_hidden": false,
          "outputs_hidden": false
        },
        "nteract": {
          "transient": {
            "deleting": false
          }
        }
      },
      "id": "d3cd41d7-c992-431b-bd49-c9bf68d7c070"
    },
    {
      "cell_type": "markdown",
      "source": [
        "We see that the circuit grows very rapidly; also even if we only allocate 7 qubits; the circuit actually needs 11. We suspect that the issue is with ControlledOnInt, which might be too generic for our case."
      ],
      "metadata": {
        "nteract": {
          "transient": {
            "deleting": false
          }
        }
      },
      "id": "162fb73e-363f-42a2-af66-232003801b99"
    },
    {
      "cell_type": "code",
      "source": [
        "%%qsharp\r\n",
        "operation BuildBasicFrqiAttemptTwo(Color: Qubit, Coords:Qubit[], coloredPixels: Int[][]): Unit{\r\n",
        "    ApplyToEach(H, Coords);\r\n",
        "    for pixel in coloredPixels\r\n",
        "    {\r\n",
        "        let normalizedIndex = 8*pixel[0] + pixel[1];\r\n",
        "        let boolArray = IntAsBoolArray(normalizedIndex, 6);\r\n",
        "        within\r\n",
        "        {\r\n",
        "            for (bit, qubi) in Zipped(Coords, boolArray)\r\n",
        "            {\r\n",
        "                CControlledCA(X)(qubi, bit);\r\n",
        "            }\r\n",
        "            ApplyToEachCA(X, Coords);\r\n",
        "        }\r\n",
        "        apply\r\n",
        "        {\r\n",
        "            Controlled(X)(Coords, Color);\r\n",
        "        }\r\n",
        "    }\r\n",
        "}\r\n",
        "operation BasicFrqiAttempt2(coloredPixels: Int[][]): Result[]\r\n",
        "{\r\n",
        "    use q=Qubit[7]\r\n",
        "    {\r\n",
        "        BuildBasicFrqiAttemptTwo(q[0], q[1..6], coloredPixels);\r\n",
        "\r\n",
        "        return MultiM(q);\r\n",
        "    }\r\n",
        "}"
      ],
      "outputs": [],
      "execution_count": 38,
      "metadata": {
        "jupyter": {
          "source_hidden": false,
          "outputs_hidden": false
        },
        "nteract": {
          "transient": {
            "deleting": false
          }
        },
        "microsoft": {
          "language": "qsharp"
        }
      },
      "id": "b6ed9b4e-432a-488c-8ca5-a5d0bd28be56"
    },
    {
      "cell_type": "code",
      "source": [
        "BasicFrqiAttempt2(coloredPixels=[[0,0],[1,1],[2,2],[3,3],[4,4],[5,5],[6,6],[7,7]])"
      ],
      "outputs": [
        {
          "output_type": "execute_result",
          "execution_count": 34,
          "data": {
            "text/plain": "[1, 1, 1, 0, 1, 1, 0]"
          },
          "metadata": {}
        }
      ],
      "execution_count": 34,
      "metadata": {
        "jupyter": {
          "source_hidden": false,
          "outputs_hidden": false
        },
        "nteract": {
          "transient": {
            "deleting": false
          }
        }
      },
      "id": "f301f710-f41e-4eea-a86f-7e061d5c5cb8"
    },
    {
      "cell_type": "code",
      "source": [
        "\r\n",
        "BasicFrqiAttempt2.estimate_resources(coloredPixels=[[0,0],[1,1],[2,2],[3,3],[4,4],[5,5],[6,6],[7,7]])"
      ],
      "outputs": [
        {
          "output_type": "execute_result",
          "execution_count": 41,
          "data": {
            "text/plain": "{'CNOT': 720,\n 'QubitClifford': 294,\n 'R': 0,\n 'Measure': 7,\n 'T': 504,\n 'Depth': 328,\n 'Width': 11,\n 'QubitCount': 11,\n 'BorrowedWidth': 0}"
          },
          "metadata": {}
        }
      ],
      "execution_count": 41,
      "metadata": {
        "jupyter": {
          "source_hidden": false,
          "outputs_hidden": false
        },
        "nteract": {
          "transient": {
            "deleting": false
          }
        }
      },
      "id": "4fc4d073-374e-46c1-9622-d5897e0de841"
    },
    {
      "cell_type": "markdown",
      "source": [
        "We can see that sadly the second attempt is worse than the first, and the width is still 11! Performing a controlled operation with 6 control qubits seems to not be feasible."
      ],
      "metadata": {
        "nteract": {
          "transient": {
            "deleting": false
          }
        }
      },
      "id": "05346ea8-0256-4356-849d-5c0c8cedcdcb"
    },
    {
      "cell_type": "markdown",
      "source": [
        "Below is random stuff from original notebook"
      ],
      "metadata": {
        "nteract": {
          "transient": {
            "deleting": false
          }
        }
      },
      "id": "92ae6577-185c-4cd8-b541-71c3ec92a1c3"
    },
    {
      "cell_type": "code",
      "source": [
        "# Set the target to quantinuum.hqs-lt-s1-apival\n",
        "qsharp.azure.target(\"quantinuum.hqs-lt-s1-apival\")\n",
        "\n",
        "# Execute the job. We'll use 100 shots (simulated runs). Timeout is in seconds.\n",
        "result = qsharp.azure.execute(GenerateRandomBit, shots=100, jobName=\"Generate one random bit\", timeout=240)"
      ],
      "outputs": [
        {
          "output_type": "stream",
          "name": "stdout",
          "text": "Loading package Microsoft.Quantum.Providers.Honeywell and dependencies...\n"
        },
        {
          "output_type": "error",
          "ename": "KeyboardInterrupt",
          "evalue": "",
          "traceback": [
            "\u001b[0;31m---------------------------------------------------------------------------\u001b[0m",
            "\u001b[0;31mKeyboardInterrupt\u001b[0m                         Traceback (most recent call last)",
            "\u001b[0;32m/tmp/ipykernel_21686/4033181043.py\u001b[0m in \u001b[0;36m<module>\u001b[0;34m\u001b[0m\n\u001b[1;32m      1\u001b[0m \u001b[0;31m# Set the target to quantinuum.hqs-lt-s1-apival\u001b[0m\u001b[0;34m\u001b[0m\u001b[0;34m\u001b[0m\u001b[0;34m\u001b[0m\u001b[0m\n\u001b[0;32m----> 2\u001b[0;31m \u001b[0mqsharp\u001b[0m\u001b[0;34m.\u001b[0m\u001b[0mazure\u001b[0m\u001b[0;34m.\u001b[0m\u001b[0mtarget\u001b[0m\u001b[0;34m(\u001b[0m\u001b[0;34m\"quantinuum.hqs-lt-s1-apival\"\u001b[0m\u001b[0;34m)\u001b[0m\u001b[0;34m\u001b[0m\u001b[0;34m\u001b[0m\u001b[0m\n\u001b[0m\u001b[1;32m      3\u001b[0m \u001b[0;34m\u001b[0m\u001b[0m\n\u001b[1;32m      4\u001b[0m \u001b[0;31m# Execute the job. We'll use 100 shots (simulated runs). Timeout is in seconds.\u001b[0m\u001b[0;34m\u001b[0m\u001b[0;34m\u001b[0m\u001b[0;34m\u001b[0m\u001b[0m\n\u001b[1;32m      5\u001b[0m \u001b[0mresult\u001b[0m \u001b[0;34m=\u001b[0m \u001b[0mqsharp\u001b[0m\u001b[0;34m.\u001b[0m\u001b[0mazure\u001b[0m\u001b[0;34m.\u001b[0m\u001b[0mexecute\u001b[0m\u001b[0;34m(\u001b[0m\u001b[0mGenerateRandomBit\u001b[0m\u001b[0;34m,\u001b[0m \u001b[0mshots\u001b[0m\u001b[0;34m=\u001b[0m\u001b[0;36m100\u001b[0m\u001b[0;34m,\u001b[0m \u001b[0mjobName\u001b[0m\u001b[0;34m=\u001b[0m\u001b[0;34m\"Generate one random bit\"\u001b[0m\u001b[0;34m,\u001b[0m \u001b[0mtimeout\u001b[0m\u001b[0;34m=\u001b[0m\u001b[0;36m240\u001b[0m\u001b[0;34m)\u001b[0m\u001b[0;34m\u001b[0m\u001b[0;34m\u001b[0m\u001b[0m\n",
            "\u001b[0;32m/usr/local/lib/python3.7/site-packages/qsharp/azure.py\u001b[0m in \u001b[0;36mtarget\u001b[0;34m(name, **params)\u001b[0m\n\u001b[1;32m    116\u001b[0m     \u001b[0mSee\u001b[0m \u001b[0mhttps\u001b[0m\u001b[0;34m:\u001b[0m\u001b[0;34m//\u001b[0m\u001b[0mdocs\u001b[0m\u001b[0;34m.\u001b[0m\u001b[0mmicrosoft\u001b[0m\u001b[0;34m.\u001b[0m\u001b[0mcom\u001b[0m\u001b[0;34m/\u001b[0m\u001b[0mqsharp\u001b[0m\u001b[0;34m/\u001b[0m\u001b[0mapi\u001b[0m\u001b[0;34m/\u001b[0m\u001b[0miqsharp\u001b[0m\u001b[0;34m-\u001b[0m\u001b[0mmagic\u001b[0m\u001b[0;34m/\u001b[0m\u001b[0mazure\u001b[0m\u001b[0;34m.\u001b[0m\u001b[0mtarget\u001b[0m \u001b[0;32mfor\u001b[0m \u001b[0mmore\u001b[0m \u001b[0mdetails\u001b[0m\u001b[0;34m.\u001b[0m\u001b[0;34m\u001b[0m\u001b[0;34m\u001b[0m\u001b[0m\n\u001b[1;32m    117\u001b[0m     \"\"\"\n\u001b[0;32m--> 118\u001b[0;31m     \u001b[0mresult\u001b[0m \u001b[0;34m=\u001b[0m \u001b[0mqsharp\u001b[0m\u001b[0;34m.\u001b[0m\u001b[0mclient\u001b[0m\u001b[0;34m.\u001b[0m\u001b[0m_execute_magic\u001b[0m\u001b[0;34m(\u001b[0m\u001b[0;34mf\"azure.target {name}\"\u001b[0m\u001b[0;34m,\u001b[0m \u001b[0mraise_on_stderr\u001b[0m\u001b[0;34m=\u001b[0m\u001b[0;32mFalse\u001b[0m\u001b[0;34m,\u001b[0m \u001b[0;34m**\u001b[0m\u001b[0mparams\u001b[0m\u001b[0;34m)\u001b[0m\u001b[0;34m\u001b[0m\u001b[0;34m\u001b[0m\u001b[0m\n\u001b[0m\u001b[1;32m    119\u001b[0m     \u001b[0;32mif\u001b[0m \u001b[0;34m\"error_code\"\u001b[0m \u001b[0;32min\u001b[0m \u001b[0mresult\u001b[0m\u001b[0;34m:\u001b[0m \u001b[0;32mraise\u001b[0m \u001b[0mAzureError\u001b[0m\u001b[0;34m(\u001b[0m\u001b[0mresult\u001b[0m\u001b[0;34m)\u001b[0m\u001b[0;34m\u001b[0m\u001b[0;34m\u001b[0m\u001b[0m\n\u001b[1;32m    120\u001b[0m     \u001b[0;32mreturn\u001b[0m \u001b[0mAzureTarget\u001b[0m\u001b[0;34m(\u001b[0m\u001b[0mresult\u001b[0m\u001b[0;34m)\u001b[0m\u001b[0;34m\u001b[0m\u001b[0;34m\u001b[0m\u001b[0m\n",
            "\u001b[0;32m/usr/local/lib/python3.7/site-packages/qsharp/clients/iqsharp.py\u001b[0m in \u001b[0;36m_execute_magic\u001b[0;34m(self, magic, raise_on_stderr, _quiet_, **kwargs)\u001b[0m\n\u001b[1;32m    282\u001b[0m         return self._execute(\n\u001b[1;32m    283\u001b[0m             \u001b[0;34mf'%{magic} {json.dumps(map_tuples(kwargs))}'\u001b[0m\u001b[0;34m,\u001b[0m\u001b[0;34m\u001b[0m\u001b[0;34m\u001b[0m\u001b[0m\n\u001b[0;32m--> 284\u001b[0;31m             \u001b[0mraise_on_stderr\u001b[0m\u001b[0;34m=\u001b[0m\u001b[0mraise_on_stderr\u001b[0m\u001b[0;34m,\u001b[0m \u001b[0m_quiet_\u001b[0m\u001b[0;34m=\u001b[0m\u001b[0m_quiet_\u001b[0m\u001b[0;34m,\u001b[0m \u001b[0m_timeout_\u001b[0m\u001b[0;34m=\u001b[0m\u001b[0m_timeout_\u001b[0m\u001b[0;34m\u001b[0m\u001b[0;34m\u001b[0m\u001b[0m\n\u001b[0m\u001b[1;32m    285\u001b[0m         )\n\u001b[1;32m    286\u001b[0m \u001b[0;34m\u001b[0m\u001b[0m\n",
            "\u001b[0;32m/usr/local/lib/python3.7/site-packages/qsharp/clients/iqsharp.py\u001b[0m in \u001b[0;36m_execute\u001b[0;34m(self, input, return_full_result, raise_on_stderr, output_hook, display_data_handler, _timeout_, _quiet_, **kwargs)\u001b[0m\n\u001b[1;32m    370\u001b[0m                 \u001b[0;32mraise\u001b[0m \u001b[0mAlreadyExecutingError\u001b[0m\u001b[0;34m(\u001b[0m\u001b[0;34m\"Cannot execute through the IQ# client while another execution is completing.\"\u001b[0m\u001b[0;34m)\u001b[0m\u001b[0;34m\u001b[0m\u001b[0;34m\u001b[0m\u001b[0m\n\u001b[1;32m    371\u001b[0m             \u001b[0mself\u001b[0m\u001b[0;34m.\u001b[0m\u001b[0m_busy\u001b[0m \u001b[0;34m=\u001b[0m \u001b[0;32mTrue\u001b[0m\u001b[0;34m\u001b[0m\u001b[0;34m\u001b[0m\u001b[0m\n\u001b[0;32m--> 372\u001b[0;31m             \u001b[0mreply\u001b[0m \u001b[0;34m=\u001b[0m \u001b[0mself\u001b[0m\u001b[0;34m.\u001b[0m\u001b[0mkernel_client\u001b[0m\u001b[0;34m.\u001b[0m\u001b[0mexecute_interactive\u001b[0m\u001b[0;34m(\u001b[0m\u001b[0minput\u001b[0m\u001b[0;34m,\u001b[0m \u001b[0mtimeout\u001b[0m\u001b[0;34m=\u001b[0m\u001b[0m_timeout_\u001b[0m\u001b[0;34m,\u001b[0m \u001b[0moutput_hook\u001b[0m\u001b[0;34m=\u001b[0m\u001b[0m_output_hook\u001b[0m\u001b[0;34m,\u001b[0m \u001b[0;34m**\u001b[0m\u001b[0mkwargs\u001b[0m\u001b[0;34m)\u001b[0m\u001b[0;34m\u001b[0m\u001b[0;34m\u001b[0m\u001b[0m\n\u001b[0m\u001b[1;32m    373\u001b[0m         \u001b[0;32mfinally\u001b[0m\u001b[0;34m:\u001b[0m\u001b[0;34m\u001b[0m\u001b[0;34m\u001b[0m\u001b[0m\n\u001b[1;32m    374\u001b[0m             \u001b[0mself\u001b[0m\u001b[0;34m.\u001b[0m\u001b[0m_busy\u001b[0m \u001b[0;34m=\u001b[0m \u001b[0;32mFalse\u001b[0m\u001b[0;34m\u001b[0m\u001b[0;34m\u001b[0m\u001b[0m\n",
            "\u001b[0;32m/usr/local/lib/python3.7/site-packages/jupyter_client/blocking/client.py\u001b[0m in \u001b[0;36mexecute_interactive\u001b[0;34m(self, code, silent, store_history, user_expressions, allow_stdin, stop_on_error, timeout, output_hook, stdin_hook)\u001b[0m\n\u001b[1;32m    317\u001b[0m                 \u001b[0mtimeout\u001b[0m \u001b[0;34m=\u001b[0m \u001b[0mmax\u001b[0m\u001b[0;34m(\u001b[0m\u001b[0;36m0\u001b[0m\u001b[0;34m,\u001b[0m \u001b[0mdeadline\u001b[0m \u001b[0;34m-\u001b[0m \u001b[0mmonotonic\u001b[0m\u001b[0;34m(\u001b[0m\u001b[0;34m)\u001b[0m\u001b[0;34m)\u001b[0m\u001b[0;34m\u001b[0m\u001b[0;34m\u001b[0m\u001b[0m\n\u001b[1;32m    318\u001b[0m                 \u001b[0mtimeout_ms\u001b[0m \u001b[0;34m=\u001b[0m \u001b[0;36m1e3\u001b[0m \u001b[0;34m*\u001b[0m \u001b[0mtimeout\u001b[0m\u001b[0;34m\u001b[0m\u001b[0;34m\u001b[0m\u001b[0m\n\u001b[0;32m--> 319\u001b[0;31m             \u001b[0mevents\u001b[0m \u001b[0;34m=\u001b[0m \u001b[0mdict\u001b[0m\u001b[0;34m(\u001b[0m\u001b[0mpoller\u001b[0m\u001b[0;34m.\u001b[0m\u001b[0mpoll\u001b[0m\u001b[0;34m(\u001b[0m\u001b[0mtimeout_ms\u001b[0m\u001b[0;34m)\u001b[0m\u001b[0;34m)\u001b[0m\u001b[0;34m\u001b[0m\u001b[0;34m\u001b[0m\u001b[0m\n\u001b[0m\u001b[1;32m    320\u001b[0m             \u001b[0;32mif\u001b[0m \u001b[0;32mnot\u001b[0m \u001b[0mevents\u001b[0m\u001b[0;34m:\u001b[0m\u001b[0;34m\u001b[0m\u001b[0;34m\u001b[0m\u001b[0m\n\u001b[1;32m    321\u001b[0m                 \u001b[0;32mraise\u001b[0m \u001b[0mTimeoutError\u001b[0m\u001b[0;34m(\u001b[0m\u001b[0;34m\"Timeout waiting for output\"\u001b[0m\u001b[0;34m)\u001b[0m\u001b[0;34m\u001b[0m\u001b[0;34m\u001b[0m\u001b[0m\n",
            "\u001b[0;32m/usr/local/lib/python3.7/site-packages/zmq/sugar/poll.py\u001b[0m in \u001b[0;36mpoll\u001b[0;34m(self, timeout)\u001b[0m\n\u001b[1;32m    101\u001b[0m         \u001b[0;32melif\u001b[0m \u001b[0misinstance\u001b[0m\u001b[0;34m(\u001b[0m\u001b[0mtimeout\u001b[0m\u001b[0;34m,\u001b[0m \u001b[0mfloat\u001b[0m\u001b[0;34m)\u001b[0m\u001b[0;34m:\u001b[0m\u001b[0;34m\u001b[0m\u001b[0;34m\u001b[0m\u001b[0m\n\u001b[1;32m    102\u001b[0m             \u001b[0mtimeout\u001b[0m \u001b[0;34m=\u001b[0m \u001b[0mint\u001b[0m\u001b[0;34m(\u001b[0m\u001b[0mtimeout\u001b[0m\u001b[0;34m)\u001b[0m\u001b[0;34m\u001b[0m\u001b[0;34m\u001b[0m\u001b[0m\n\u001b[0;32m--> 103\u001b[0;31m         \u001b[0;32mreturn\u001b[0m \u001b[0mzmq_poll\u001b[0m\u001b[0;34m(\u001b[0m\u001b[0mself\u001b[0m\u001b[0;34m.\u001b[0m\u001b[0msockets\u001b[0m\u001b[0;34m,\u001b[0m \u001b[0mtimeout\u001b[0m\u001b[0;34m=\u001b[0m\u001b[0mtimeout\u001b[0m\u001b[0;34m)\u001b[0m\u001b[0;34m\u001b[0m\u001b[0;34m\u001b[0m\u001b[0m\n\u001b[0m\u001b[1;32m    104\u001b[0m \u001b[0;34m\u001b[0m\u001b[0m\n\u001b[1;32m    105\u001b[0m \u001b[0;34m\u001b[0m\u001b[0m\n",
            "\u001b[0;32mzmq/backend/cython/_poll.pyx\u001b[0m in \u001b[0;36mzmq.backend.cython._poll.zmq_poll\u001b[0;34m()\u001b[0m\n",
            "\u001b[0;32m/usr/local/lib/python3.7/site-packages/zmq/backend/cython/checkrc.pxd\u001b[0m in \u001b[0;36mzmq.backend.cython.checkrc._check_rc\u001b[0;34m()\u001b[0m\n",
            "\u001b[0;31mKeyboardInterrupt\u001b[0m: "
          ]
        }
      ],
      "execution_count": 68,
      "metadata": {
        "scrolled": true
      },
      "id": "55072a59-3df1-4eb6-9096-35fe4f2b4fc0"
    },
    {
      "cell_type": "markdown",
      "source": [
        "The job ID can be used to retrieve the results later using the `output` and `status` functions or by viewing it under the **Job management** section of the portal."
      ],
      "metadata": {
        "nteract": {
          "transient": {
            "deleting": false
          }
        }
      },
      "id": "68845f26-dff9-4c60-9478-895ef346231f"
    },
    {
      "cell_type": "markdown",
      "source": [
        "### 4. Visualize the job results\n",
        "You can view a histogram of the results using [`pyplot`](https://matplotlib.org/stable/api/_as_gen/matplotlib.pyplot.html):\n"
      ],
      "metadata": {
        "nteract": {
          "transient": {
            "deleting": false
          }
        }
      },
      "id": "bf44c55e-6cc8-4d18-a648-7c13e03e05d9"
    },
    {
      "cell_type": "code",
      "source": [
        "result"
      ],
      "outputs": [
        {
          "output_type": "execute_result",
          "execution_count": 6,
          "data": {
            "text/plain": "{'0': 1.0000000000000007}"
          },
          "metadata": {}
        }
      ],
      "execution_count": 6,
      "metadata": {},
      "id": "0b9c71cc"
    },
    {
      "cell_type": "code",
      "source": [
        "from matplotlib import pyplot\n",
        "\n",
        "_ = pyplot.bar(result.keys(), result.values())\n",
        "pyplot.title(\"Result\")\n",
        "pyplot.ylabel(\"Probability\")\n",
        "_ = pyplot.xlabel(\"Measurement\")"
      ],
      "outputs": [
        {
          "output_type": "display_data",
          "data": {
            "text/plain": "<Figure size 432x288 with 1 Axes>",
            "image/png": "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\n"
          },
          "metadata": {
            "needs_background": "light"
          }
        }
      ],
      "execution_count": 7,
      "metadata": {
        "jupyter": {
          "outputs_hidden": false,
          "source_hidden": false
        },
        "nteract": {
          "transient": {
            "deleting": false
          }
        }
      },
      "id": "9e07dfd6-c696-47a6-bbf6-eb11147ada24"
    },
    {
      "cell_type": "markdown",
      "source": [
        "**See the histogram above? Congratulations, you've submitted a job with Azure Quantum! 👏**"
      ],
      "metadata": {
        "nteract": {
          "transient": {
            "deleting": false
          }
        }
      },
      "id": "ac95a368-fe1f-42fe-bb21-11f11e63d177"
    },
    {
      "cell_type": "markdown",
      "source": [
        "### 5. Next steps\n",
        "Next, you can try running a program on Quantinuum's emulation target - just replace `quantinuum.hqs-lt-s1-apival` with `quantinuum.hqs-lt-s1-sim`. Or try another sample by navigating back to the sample gallery. The same \"hello world\" sample can be run with different quantum providers by choosing another option in the gallery card drop-down menu. Don't worry - your work here is automatically saved.\n",
        "\n",
        "To learn more about submitting jobs to Azure Quantum using Q#, refer to [this documentation](https://docs.microsoft.com/azure/quantum/how-to-submit-jobs?pivots=ide-python).\n",
        "\n",
        "To learn more about job pricing, review [this documentation](https://docs.microsoft.com/azure/quantum/azure-quantum-job-costs)."
      ],
      "metadata": {
        "nteract": {
          "transient": {
            "deleting": false
          }
        }
      },
      "id": "ca314d37-ac46-4a0c-89dc-3cb063eb03b8"
    },
    {
      "cell_type": "code",
      "source": [
        "%%qsharp\r\n",
        "\r\n"
      ],
      "outputs": [],
      "execution_count": 17,
      "metadata": {
        "jupyter": {
          "source_hidden": false,
          "outputs_hidden": false
        },
        "nteract": {
          "transient": {
            "deleting": false
          }
        },
        "microsoft": {
          "language": "qsharp"
        }
      },
      "id": "00b384b1-a077-48ab-9efe-a952af24d48c"
    },
    {
      "cell_type": "code",
      "source": [],
      "outputs": [],
      "execution_count": null,
      "metadata": {
        "jupyter": {
          "source_hidden": false,
          "outputs_hidden": false
        },
        "nteract": {
          "transient": {
            "deleting": false
          }
        }
      },
      "id": "99ba4ba0-d8ea-4017-ae98-c36c5c835bd0"
    }
  ],
  "metadata": {
    "kernel_info": {
      "name": "python3"
    },
    "kernelspec": {
      "name": "python3",
      "language": "python",
      "display_name": "Python 3 (ipykernel)"
    },
    "language_info": {
      "name": "python",
      "version": "3.7.13",
      "mimetype": "text/x-python",
      "codemirror_mode": {
        "name": "ipython",
        "version": 3
      },
      "pygments_lexer": "ipython3",
      "nbconvert_exporter": "python",
      "file_extension": ".py"
    },
    "nteract": {
      "version": "nteract-front-end@1.0.0"
    }
  },
  "nbformat": 4,
  "nbformat_minor": 5
}