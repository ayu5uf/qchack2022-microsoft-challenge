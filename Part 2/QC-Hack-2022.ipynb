{
  "cells": [
    {
      "cell_type": "markdown",
      "source": [
        "# 👋🌍 QC Hack 2022\n",
        "\n",
        "Project: Experimenting with small circuits to build and process 8x8 black-and-white images encoded using FRQI encoding scheme.\n"
      ],
      "metadata": {},
      "id": "4f68bf86-fb3b-453a-85ae-dfa702070bd6"
    },
    {
      "cell_type": "code",
      "source": [
        "import qsharp\n",
        "import qsharp.azure\n",
        "targets = qsharp.azure.connect(\n",
        "   resourceId=\"/subscriptions/b0c3bbe3-7123-4ba4-9aa2-57d9845f4a1d/resourceGroups/AzureQuantum/providers/Microsoft.Quantum/Workspaces/qchack-2022-b\",\n",
        "   location=\"eastus\")"
      ],
      "outputs": [
        {
          "output_type": "stream",
          "name": "stdout",
          "text": "Preparing Q# environment...\n.Authenticated using Microsoft.Azure.Quantum.Authentication.TokenFileCredential\n\n\nConnected to Azure Quantum workspace qchack-2022-b in location eastus.\n"
        }
      ],
      "execution_count": 1,
      "metadata": {},
      "id": "d171c652-649f-470d-a980-d02bae9a93db"
    },
    {
      "cell_type": "markdown",
      "source": [
        "Reference for the FRQI encoding: https://qiskit.org/textbook/ch-applications/image-processing-frqi-neqr.html#1.-The-FRQI-State"
      ],
      "metadata": {
        "nteract": {
          "transient": {
            "deleting": false
          }
        }
      },
      "id": "5b56c5cc-07ff-4066-aac8-c0d56cc3fe81"
    },
    {
      "cell_type": "code",
      "source": [
        "%%qsharp\n",
        "\n",
        "// Our register has 1 qubit for color (|0> is blank, |1> is colored), then 3 qubits for the x coordinate, then 3 qubits for the y coordinate\n",
        "// For example, if the pixel at coords (2,5) (0 indexed) is colored, then the state |1 010 101> will be part of the image superposition; if the pixel is blank, then we will have |0 010 101>\n",
        "\n",
        "open Microsoft.Quantum.Measurement;\n",
        "open Microsoft.Quantum.Arrays;\n",
        "open Microsoft.Quantum.Convert;\n",
        "\n",
        "\n",
        "// currently uses hardcoded size of 8x8\n",
        "// coloredPixels: array of pairs of coordinates, for example [[0,0], [4,5]]: the pixels at position (0,0) and (4,5) are colored\n",
        "operation BuildBasicFrqi(Color: Qubit, Coords:Qubit[], coloredPixels: Int[][]): Unit{\n",
        "    ApplyToEach(H, Coords);\n",
        "    for pixel in coloredPixels\n",
        "    {\n",
        "        let normalizedIndex = 8*pixel[0] + pixel[1];\n",
        "        ControlledOnInt(normalizedIndex, X)(Coords, Color);\n",
        "    }\n",
        "}"
      ],
      "outputs": [],
      "execution_count": 3,
      "metadata": {
        "microsoft": {
          "language": "qsharp"
        }
      },
      "id": "9deacc51-c2ea-43a3-a474-c4ff62798609"
    },
    {
      "cell_type": "markdown",
      "source": [
        "We can study the size of the circuit for various inputs. To be able to do that, we have to create a parametrized operation which returns a Result[]"
      ],
      "metadata": {
        "nteract": {
          "transient": {
            "deleting": false
          }
        }
      },
      "id": "af0ca8e0-21c1-453d-805b-80a88810b7d4"
    },
    {
      "cell_type": "code",
      "source": [
        "%%qsharp\r\n",
        "\r\n",
        "open Microsoft.Quantum.Diagnostics;\r\n",
        "operation BasicFrqi(coloredPixels: Int[][]): Result[]\r\n",
        "{\r\n",
        "    use q=Qubit[7]\r\n",
        "    {\r\n",
        "        BuildBasicFrqi(q[0], q[1..6], coloredPixels);\r\n",
        "        return MultiM(q);\r\n",
        "    }\r\n",
        "}"
      ],
      "outputs": [],
      "execution_count": 4,
      "metadata": {
        "jupyter": {
          "source_hidden": false,
          "outputs_hidden": false
        },
        "nteract": {
          "transient": {
            "deleting": false
          }
        },
        "microsoft": {
          "language": "qsharp"
        }
      },
      "id": "6dab7e0d-60a0-47b1-bd38-7f8e06716d5c"
    },
    {
      "cell_type": "markdown",
      "source": [
        "Now we can simulate and estimate"
      ],
      "metadata": {
        "nteract": {
          "transient": {
            "deleting": false
          }
        }
      },
      "id": "e1019d45-800a-40a5-8728-2dc7ed8a548a"
    },
    {
      "cell_type": "code",
      "source": [
        "BasicFrqi.simulate(coloredPixels=[[0,0],[1,1],[2,2],[3,3],[4,4],[5,5],[6,6],[7,7]])\r\n"
      ],
      "outputs": [
        {
          "output_type": "execute_result",
          "execution_count": 5,
          "data": {
            "text/plain": "[0, 1, 1, 1, 0, 1, 0]"
          },
          "metadata": {}
        }
      ],
      "execution_count": 5,
      "metadata": {
        "jupyter": {
          "source_hidden": false,
          "outputs_hidden": false
        },
        "nteract": {
          "transient": {
            "deleting": false
          }
        }
      },
      "id": "786e2f79-fcf0-4fd7-b644-d3dc8afda26b"
    },
    {
      "cell_type": "markdown",
      "source": [
        "When we simulated BasicFrqi, we performed a measurement of all the qubits of the image. This causes the state of the image to collapse into a specific pixel, and the result of the measurement of the first qubit tells us if the pixel was colored or not."
      ],
      "metadata": {
        "nteract": {
          "transient": {
            "deleting": false
          }
        }
      },
      "id": "b0389382-33a6-4a84-94fc-9c2a3ed2d0e8"
    },
    {
      "cell_type": "code",
      "source": [
        "BasicFrqi.estimate_resources(coloredPixels=[[0,0],[1,1],[2,2],[3,3],[4,4],[5,5],[6,6],[7,7]])"
      ],
      "outputs": [
        {
          "output_type": "execute_result",
          "execution_count": 6,
          "data": {
            "text/plain": "{'CNOT': 720,\n 'QubitClifford': 198,\n 'R': 0,\n 'Measure': 7,\n 'T': 504,\n 'Depth': 328,\n 'Width': 11,\n 'QubitCount': 11,\n 'BorrowedWidth': 0}"
          },
          "metadata": {}
        }
      ],
      "execution_count": 6,
      "metadata": {
        "jupyter": {
          "source_hidden": false,
          "outputs_hidden": false
        },
        "nteract": {
          "transient": {
            "deleting": false
          }
        }
      },
      "id": "268bc5d9-a54b-4634-ad8c-1a81fcdc3d62"
    },
    {
      "cell_type": "code",
      "source": [
        "BasicFrqi.estimate_resources(coloredPixels=[[0,0]])"
      ],
      "outputs": [
        {
          "output_type": "execute_result",
          "execution_count": 7,
          "data": {
            "text/plain": "{'CNOT': 90,\n 'QubitClifford': 36,\n 'R': 0,\n 'Measure': 7,\n 'T': 63,\n 'Depth': 41,\n 'Width': 11,\n 'QubitCount': 11,\n 'BorrowedWidth': 0}"
          },
          "metadata": {}
        }
      ],
      "execution_count": 7,
      "metadata": {
        "jupyter": {
          "source_hidden": false,
          "outputs_hidden": false
        },
        "nteract": {
          "transient": {
            "deleting": false
          }
        }
      },
      "id": "d3cd41d7-c992-431b-bd49-c9bf68d7c070"
    },
    {
      "cell_type": "markdown",
      "source": [
        "We see that the circuit grows very rapidly; also even if we only allocate 7 qubits; the circuit actually needs 11. We suspect that the issue is with ControlledOnInt, which might be too generic for our case."
      ],
      "metadata": {
        "nteract": {
          "transient": {
            "deleting": false
          }
        }
      },
      "id": "162fb73e-363f-42a2-af66-232003801b99"
    },
    {
      "cell_type": "code",
      "source": [
        "%%qsharp\r\n",
        "operation BuildBasicFrqiAttemptTwo(Color: Qubit, Coords:Qubit[], coloredPixels: Int[][]): Unit{\r\n",
        "    ApplyToEach(H, Coords);\r\n",
        "    for pixel in coloredPixels\r\n",
        "    {\r\n",
        "        let normalizedIndex = 8*pixel[0] + pixel[1];\r\n",
        "        let boolArray = IntAsBoolArray(normalizedIndex, 6);\r\n",
        "        within\r\n",
        "        {\r\n",
        "            for (bit, qubi) in Zipped(Coords, boolArray)\r\n",
        "            {\r\n",
        "                CControlledCA(X)(qubi, bit);\r\n",
        "            }\r\n",
        "            ApplyToEachCA(X, Coords);\r\n",
        "        }\r\n",
        "        apply\r\n",
        "        {\r\n",
        "            Controlled(X)(Coords, Color);\r\n",
        "        }\r\n",
        "    }\r\n",
        "}\r\n",
        "operation BasicFrqiAttempt2(coloredPixels: Int[][]): Result[]\r\n",
        "{\r\n",
        "    use q=Qubit[7]\r\n",
        "    {\r\n",
        "        BuildBasicFrqiAttemptTwo(q[0], q[1..6], coloredPixels);\r\n",
        "\r\n",
        "        return MultiM(q);\r\n",
        "    }\r\n",
        "}"
      ],
      "outputs": [],
      "execution_count": 8,
      "metadata": {
        "jupyter": {
          "source_hidden": false,
          "outputs_hidden": false
        },
        "nteract": {
          "transient": {
            "deleting": false
          }
        },
        "microsoft": {
          "language": "qsharp"
        }
      },
      "id": "b6ed9b4e-432a-488c-8ca5-a5d0bd28be56"
    },
    {
      "cell_type": "code",
      "source": [
        "BasicFrqiAttempt2(coloredPixels=[[0,0],[1,1],[2,2],[3,3],[4,4],[5,5],[6,6],[7,7]])"
      ],
      "outputs": [
        {
          "output_type": "execute_result",
          "execution_count": 9,
          "data": {
            "text/plain": "[0, 0, 0, 0, 0, 1, 1]"
          },
          "metadata": {}
        }
      ],
      "execution_count": 9,
      "metadata": {
        "jupyter": {
          "source_hidden": false,
          "outputs_hidden": false
        },
        "nteract": {
          "transient": {
            "deleting": false
          }
        }
      },
      "id": "f301f710-f41e-4eea-a86f-7e061d5c5cb8"
    },
    {
      "cell_type": "code",
      "source": [
        "\r\n",
        "BasicFrqiAttempt2.estimate_resources(coloredPixels=[[0,0],[1,1],[2,2],[3,3],[4,4],[5,5],[6,6],[7,7]])"
      ],
      "outputs": [
        {
          "output_type": "execute_result",
          "execution_count": 10,
          "data": {
            "text/plain": "{'CNOT': 720,\n 'QubitClifford': 294,\n 'R': 0,\n 'Measure': 7,\n 'T': 504,\n 'Depth': 328,\n 'Width': 11,\n 'QubitCount': 11,\n 'BorrowedWidth': 0}"
          },
          "metadata": {}
        }
      ],
      "execution_count": 10,
      "metadata": {
        "jupyter": {
          "source_hidden": false,
          "outputs_hidden": false
        },
        "nteract": {
          "transient": {
            "deleting": false
          }
        }
      },
      "id": "4fc4d073-374e-46c1-9622-d5897e0de841"
    },
    {
      "cell_type": "markdown",
      "source": [
        "We can see that sadly the second attempt is worse than the first, and the width is still 11! Performing a controlled operation with 6 control qubits seems to not be feasible."
      ],
      "metadata": {
        "nteract": {
          "transient": {
            "deleting": false
          }
        }
      },
      "id": "05346ea8-0256-4356-849d-5c0c8cedcdcb"
    },
    {
      "cell_type": "markdown",
      "source": [
        "Let's try to make the encoding of the image to work for any size (our goal is to try out 4x4 images)"
      ],
      "metadata": {
        "nteract": {
          "transient": {
            "deleting": false
          }
        }
      },
      "id": "a1e59f3c-60b5-4566-a1fd-368959c586de"
    },
    {
      "cell_type": "code",
      "source": [
        "%%qsharp\r\n",
        "open Microsoft.Quantum.Math;\r\n",
        "operation BuildBasicFrqiGeneric(Color: Qubit, Coords:Qubit[], coloredPixels: Int[][]): Unit{\r\n",
        "    ApplyToEach(H, Coords);\r\n",
        "\r\n",
        "    let N = Length(Coords) / 2;\r\n",
        "    for pixel in coloredPixels\r\n",
        "    {\r\n",
        "        // compute the index of the pixel\r\n",
        "        let normalizedIndex = PowI(2, N)*pixel[0] + pixel[1];\r\n",
        "\r\n",
        "        // toggle the color qubit for this particular pixel position\r\n",
        "        ControlledOnInt(normalizedIndex, X)(Coords, Color);\r\n",
        "    }\r\n",
        "}\r\n",
        "\r\n",
        "operation BasicFrqiGeneric(N: Int, coloredPixels: Int[][]): Result[]\r\n",
        "{\r\n",
        "    // we need 1 qubit for color and 2*N for a (2^N)*(2^N) image\r\n",
        "    let requiredQubits = 1+2*N;\r\n",
        "    use q=Qubit[requiredQubits]\r\n",
        "    {\r\n",
        "        BuildBasicFrqiGeneric(q[0], q[1..requiredQubits-1], coloredPixels);\r\n",
        "\r\n",
        "        return MultiM(q);\r\n",
        "    }\r\n",
        "}"
      ],
      "outputs": [],
      "execution_count": 11,
      "metadata": {
        "jupyter": {
          "source_hidden": false,
          "outputs_hidden": false
        },
        "nteract": {
          "transient": {
            "deleting": false
          }
        },
        "microsoft": {
          "language": "qsharp"
        }
      },
      "id": "81310fc7-a3a6-4a52-878b-ac65e8d5e450"
    },
    {
      "cell_type": "markdown",
      "source": [
        "Let's try to build a 4x4 image now."
      ],
      "metadata": {
        "nteract": {
          "transient": {
            "deleting": false
          }
        }
      },
      "id": "3b125238-b427-4948-aaba-1ef4e12f34ba"
    },
    {
      "cell_type": "code",
      "source": [
        "BasicFrqiGeneric.simulate(N=2, coloredPixels=[[2,3]])"
      ],
      "outputs": [
        {
          "output_type": "execute_result",
          "execution_count": 12,
          "data": {
            "text/plain": "[0, 1, 0, 1, 1]"
          },
          "metadata": {}
        }
      ],
      "execution_count": 12,
      "metadata": {
        "jupyter": {
          "source_hidden": false,
          "outputs_hidden": false
        },
        "nteract": {
          "transient": {
            "deleting": false
          }
        }
      },
      "id": "04f2ed06-f17f-4a8f-a029-092daf4179d9"
    },
    {
      "cell_type": "code",
      "source": [
        "BasicFrqiGeneric.estimate_resources(N=2, coloredPixels=[[0,0],[0,2],[1,1],[1,3],[2,0],[2,2],[3,1],[3,3]])"
      ],
      "outputs": [
        {
          "output_type": "execute_result",
          "execution_count": 13,
          "data": {
            "text/plain": "{'CNOT': 400,\n 'QubitClifford': 116,\n 'R': 0,\n 'Measure': 5,\n 'T': 280,\n 'Depth': 184,\n 'Width': 7,\n 'QubitCount': 7,\n 'BorrowedWidth': 0}"
          },
          "metadata": {}
        }
      ],
      "execution_count": 13,
      "metadata": {
        "jupyter": {
          "source_hidden": false,
          "outputs_hidden": false
        },
        "nteract": {
          "transient": {
            "deleting": false
          }
        }
      },
      "id": "3d6f50f7-df03-4a3f-8251-f65a1e8fe558"
    },
    {
      "cell_type": "markdown",
      "source": [
        "We can see that for generating a checkerboard pattern on a 4x4 square, we need to toggle 8 pixels, and the circuit is quite large. Let's try to write a smaller circuit that creates the same pattern."
      ],
      "metadata": {
        "nteract": {
          "transient": {
            "deleting": false
          }
        }
      },
      "id": "d708088f-3749-4f02-8069-b94ff3bce390"
    },
    {
      "cell_type": "markdown",
      "source": [
        "If we look at the array of colored pixels, [[0,0],[0,2],[1,1],[1,3],[2,0],[2,2],[3,1],[3,3]], it is clear that the pixel is colored if and only if the sum of the 2 coordinates is even.\r\n",
        "We can solve this with a small oracle.\r\n",
        "Consider the sum of two numbers in binary notation, |101> and |010>. We can compute the sum, which would be |111>. The remainder of dividing 0b111 by 2 is the least significat bit, in our case 1, so the sum of |101> and |010> is not divisible by 2. \r\n",
        "Since we are only interested in the last bit, it is clear that we do not need to perform the entire sum, but only the sum of the least significant bit of both numbers. It is a known fact that addition modulo 2 of bits is equvalent to XOR, and XOR can be computed using CNOT gates.\r\n"
      ],
      "metadata": {
        "nteract": {
          "transient": {
            "deleting": false
          }
        }
      },
      "id": "fabf0fe5-2f35-4109-81b8-6efa5cbfcbd3"
    },
    {
      "cell_type": "code",
      "source": [
        "%%qsharp\r\n",
        "// x and y are the 2 numbers to be added\r\n",
        "// pre: y is in |0> state\r\n",
        "// post: y is in |0> state if sum of x and y is odd, |1> if sum is even\r\n",
        "operation IsSumEvenOracle(x: Qubit[], y: Qubit[], target:Qubit): Unit\r\n",
        "{\r\n",
        "    CNOT(x[0], target);\r\n",
        "    CNOT(y[0], target);\r\n",
        "    // now target contains the XOR of x[0] and y[0]; so target is 1 if the sum is odd and 0 if the sum is even; we need the opposite, so we flip the target\r\n",
        "    X(target);\r\n",
        "}"
      ],
      "outputs": [],
      "execution_count": 14,
      "metadata": {
        "jupyter": {
          "source_hidden": false,
          "outputs_hidden": false
        },
        "nteract": {
          "transient": {
            "deleting": false
          }
        },
        "microsoft": {
          "language": "qsharp"
        }
      },
      "id": "9ccc43d4-4032-49c2-a0e4-3c08e8b535f1"
    },
    {
      "cell_type": "code",
      "source": [
        "%%qsharp\r\n",
        "open Microsoft.Quantum.Math;\r\n",
        "operation BuildBasicFrqiCheckerboard(Color: Qubit, Coords:Qubit[]): Unit{\r\n",
        "    ApplyToEach(H, Coords);\r\n",
        "    let N = Length(Coords)/2;\r\n",
        "    IsSumEvenOracle(Coords[0..N-1], Coords[N..2*N-1], Color);\r\n",
        "}\r\n",
        "\r\n",
        "operation BasicFrqiCheckerboard(N: Int): Result[]\r\n",
        "{\r\n",
        "    // we need 1 qubit for color and 2*N for a (2^N)*(2^N) image\r\n",
        "    let requiredQubits = 1+2*N;\r\n",
        "    use q=Qubit[requiredQubits]\r\n",
        "    {\r\n",
        "        BuildBasicFrqiCheckerboard(q[0], q[1..requiredQubits-1]);\r\n",
        "\r\n",
        "        return MultiM(q);\r\n",
        "    }\r\n",
        "}"
      ],
      "outputs": [],
      "execution_count": 15,
      "metadata": {
        "jupyter": {
          "source_hidden": false,
          "outputs_hidden": false
        },
        "nteract": {
          "transient": {
            "deleting": false
          }
        },
        "microsoft": {
          "language": "qsharp"
        }
      },
      "id": "6ada9026-be1f-48a9-92d6-0ef19dda9f45"
    },
    {
      "cell_type": "code",
      "source": [
        "BasicFrqiCheckerboard.estimate_resources(N=3)"
      ],
      "outputs": [
        {
          "output_type": "execute_result",
          "execution_count": 16,
          "data": {
            "text/plain": "{'CNOT': 2,\n 'QubitClifford': 7,\n 'R': 0,\n 'Measure': 7,\n 'T': 0,\n 'Depth': 0,\n 'Width': 7,\n 'QubitCount': 7,\n 'BorrowedWidth': 0}"
          },
          "metadata": {}
        }
      ],
      "execution_count": 16,
      "metadata": {
        "jupyter": {
          "source_hidden": false,
          "outputs_hidden": false
        },
        "nteract": {
          "transient": {
            "deleting": false
          }
        }
      },
      "id": "32af8448-c6ae-4684-a516-72f906d38a1a"
    },
    {
      "cell_type": "markdown",
      "source": [
        "Excellent result! :D The circuit is now so small, it is almost a waste to run it on quantum hardware."
      ],
      "metadata": {
        "nteract": {
          "transient": {
            "deleting": false
          }
        }
      },
      "id": "11fb2a43-4493-492f-a7fa-223ff4d72c9a"
    },
    {
      "cell_type": "markdown",
      "source": [
        "Let's implement simple image processing routines, such as rotation. A 90 degrees rotation to the right is equivalent to the mapping (x,y) -> (y,x). This seems easy to implement in Q#\r\n"
      ],
      "metadata": {
        "nteract": {
          "transient": {
            "deleting": false
          }
        }
      },
      "id": "a3bcd6bd-daec-483b-8938-ac31cd5e4249"
    },
    {
      "cell_type": "code",
      "source": [
        "%%qsharp\r\n",
        "operation RotateImageRight90(Color:Qubit, Coords:Qubit[]): Unit\r\n",
        "{\r\n",
        "    let N = Length(Coords)/2;\r\n",
        "    for i in 0..N-1\r\n",
        "    {\r\n",
        "        SWAP(Coords[i], Coords[i+N]);\r\n",
        "    }\r\n",
        "}\r\n",
        "operation RotateCheckerBoard(N:Int): Result[]\r\n",
        "{\r\n",
        "    // we need 1 qubit for color and 2*N for a (2^N)*(2^N) image\r\n",
        "    let requiredQubits = 1+2*N;\r\n",
        "    use q=Qubit[requiredQubits]\r\n",
        "    {\r\n",
        "        BuildBasicFrqiCheckerboard(q[0], q[1..requiredQubits-1]);\r\n",
        "        RotateImageRight90(q[0], q[1..requiredQubits-1]);\r\n",
        "        return MultiM(q);\r\n",
        "    }\r\n",
        "}"
      ],
      "outputs": [],
      "execution_count": 17,
      "metadata": {
        "jupyter": {
          "source_hidden": false,
          "outputs_hidden": false
        },
        "nteract": {
          "transient": {
            "deleting": false
          }
        },
        "microsoft": {
          "language": "qsharp"
        }
      },
      "id": "df5736a8-0e26-434d-89ac-0bd2c41bebd7"
    },
    {
      "cell_type": "code",
      "source": [
        "RotateCheckerBoard.estimate_resources(N=3)\r\n"
      ],
      "outputs": [
        {
          "output_type": "execute_result",
          "execution_count": 18,
          "data": {
            "text/plain": "{'CNOT': 11,\n 'QubitClifford': 7,\n 'R': 0,\n 'Measure': 7,\n 'T': 0,\n 'Depth': 0,\n 'Width': 7,\n 'QubitCount': 7,\n 'BorrowedWidth': 0}"
          },
          "metadata": {}
        }
      ],
      "execution_count": 18,
      "metadata": {
        "jupyter": {
          "source_hidden": false,
          "outputs_hidden": false
        },
        "nteract": {
          "transient": {
            "deleting": false
          }
        }
      },
      "id": "2bb9be38-8ad5-4d87-be73-569cb6bbb615"
    },
    {
      "cell_type": "markdown",
      "source": [
        "Let's try to implement another clasic operation: let's shift the image one pixel to the right. We will wrap around the right edge of the image, so the last column becomes the first. This simply means adding 1 to the y coordinate of each pixel"
      ],
      "metadata": {
        "nteract": {
          "transient": {
            "deleting": false
          }
        }
      },
      "id": "a1ad7d88-05bd-4056-8feb-3d2a1b7fc518"
    },
    {
      "cell_type": "code",
      "source": [
        "%%qsharp\r\n",
        "open Microsoft.Quantum.Arithmetic;\r\n",
        "operation ShiftImageRight(Color:Qubit, Coords:Qubit[]): Unit\r\n",
        "{\r\n",
        "    let N = Length(Coords)/2;\r\n",
        "    let yCoord = LittleEndian(Coords[N..2*N-1]);\r\n",
        "    IncrementByInteger(1, yCoord);\r\n",
        "}\r\n",
        "operation RotateAndShiftCheckerBoard(N:Int): Result[]\r\n",
        "{\r\n",
        "    // we need 1 qubit for color and 2*N for a (2^N)*(2^N) image\r\n",
        "    let requiredQubits = 1+2*N;\r\n",
        "    use q=Qubit[requiredQubits]\r\n",
        "    {\r\n",
        "        BuildBasicFrqiCheckerboard(q[0], q[1..requiredQubits-1]);\r\n",
        "        RotateImageRight90(q[0], q[1..requiredQubits-1]);\r\n",
        "        ShiftImageRight(q[0], q[1..requiredQubits-1]);\r\n",
        "        return MultiM(q);\r\n",
        "    }\r\n",
        "}"
      ],
      "outputs": [],
      "execution_count": 20,
      "metadata": {
        "jupyter": {
          "source_hidden": false,
          "outputs_hidden": false
        },
        "nteract": {
          "transient": {
            "deleting": false
          }
        },
        "microsoft": {
          "language": "qsharp"
        }
      },
      "id": "790af5e4-9b91-42af-8b63-c96da31730f9"
    },
    {
      "cell_type": "code",
      "source": [
        "RotateAndShiftCheckerBoard.estimate_resources(N=3)"
      ],
      "outputs": [
        {
          "output_type": "execute_result",
          "execution_count": 21,
          "data": {
            "text/plain": "{'CNOT': 57,\n 'QubitClifford': 23,\n 'R': 0,\n 'Measure': 7,\n 'T': 31,\n 'Depth': 21,\n 'Width': 8,\n 'QubitCount': 8,\n 'BorrowedWidth': 0}"
          },
          "metadata": {}
        }
      ],
      "execution_count": 21,
      "metadata": {
        "jupyter": {
          "source_hidden": false,
          "outputs_hidden": false
        },
        "nteract": {
          "transient": {
            "deleting": false
          }
        }
      },
      "id": "33f6e791-dbc7-4771-8190-323e3098183b"
    },
    {
      "cell_type": "markdown",
      "source": [
        "Let's see how our RotateAndShiftCheckerBoard performs on various targets."
      ],
      "metadata": {
        "nteract": {
          "transient": {
            "deleting": false
          }
        }
      },
      "id": "dd00a0eb-45ad-4876-aacc-fecc5a885a21"
    },
    {
      "cell_type": "code",
      "source": [
        "qsharp.azure.target(\"ionq.simulator\")\r\n",
        "\r\n",
        "result = qsharp.azure.execute(RotateAndShiftCheckerBoard, N=3, shots=1000, jobName=\"IonqSimulator-RotateAndShift\", timeout=240)"
      ],
      "outputs": [
        {
          "output_type": "stream",
          "name": "stdout",
          "text": "Loading package Microsoft.Quantum.Providers.IonQ and dependencies...\nActive target is now ionq.simulator\nSubmitting RotateAndShiftCheckerBoard to target ionq.simulator...\nJob successfully submitted for 1000 shots.\n   Job name: IonqSimulator-RotateAndShift\n   Job ID: 29b6a6f5-1162-41bb-9bcd-8e2b43151881\nWaiting up to 240 seconds for Azure Quantum job to complete...\n[10:03:37] Current job status: Waiting\n[10:03:42] Current job status: Waiting\n[10:03:47] Current job status: Waiting\n[10:03:52] Current job status: Waiting\n[10:03:57] Current job status: Waiting\n[10:04:02] Current job status: Waiting\n[10:04:07] Current job status: Succeeded\n"
        }
      ],
      "execution_count": 22,
      "metadata": {
        "jupyter": {
          "source_hidden": false,
          "outputs_hidden": false
        },
        "nteract": {
          "transient": {
            "deleting": false
          }
        }
      },
      "id": "206a85d6-5a70-415f-8013-ce9d96d5c4ce"
    },
    {
      "cell_type": "code",
      "source": [
        "print(result)"
      ],
      "outputs": [
        {
          "output_type": "stream",
          "name": "stdout",
          "text": "{'[0,0,0,0,0,0,0]': 0.015625, '[1,1,0,0,0,0,0]': 0.015625, '[0,0,1,0,0,0,0]': 0.015625, '[1,1,1,0,0,0,0]': 0.015625, '[0,0,0,1,0,0,0]': 0.015625, '[1,1,0,1,0,0,0]': 0.015625, '[0,0,1,1,0,0,0]': 0.015625, '[1,1,1,1,0,0,0]': 0.015625, '[1,0,0,0,1,0,0]': 0.015625, '[0,1,0,0,1,0,0]': 0.015625, '[1,0,1,0,1,0,0]': 0.015625, '[0,1,1,0,1,0,0]': 0.015625, '[1,0,0,1,1,0,0]': 0.015625, '[0,1,0,1,1,0,0]': 0.015625, '[1,0,1,1,1,0,0]': 0.015625, '[0,1,1,1,1,0,0]': 0.015625, '[0,0,0,0,0,1,0]': 0.015625, '[1,1,0,0,0,1,0]': 0.015625, '[0,0,1,0,0,1,0]': 0.015625, '[1,1,1,0,0,1,0]': 0.015625, '[0,0,0,1,0,1,0]': 0.015625, '[1,1,0,1,0,1,0]': 0.015625, '[0,0,1,1,0,1,0]': 0.015625, '[1,1,1,1,0,1,0]': 0.015625, '[1,0,0,0,1,1,0]': 0.015625, '[0,1,0,0,1,1,0]': 0.015625, '[1,0,1,0,1,1,0]': 0.015625, '[0,1,1,0,1,1,0]': 0.015625, '[1,0,0,1,1,1,0]': 0.015625, '[0,1,0,1,1,1,0]': 0.015625, '[1,0,1,1,1,1,0]': 0.015625, '[0,1,1,1,1,1,0]': 0.015625, '[0,0,0,0,0,0,1]': 0.015625, '[1,1,0,0,0,0,1]': 0.015625, '[0,0,1,0,0,0,1]': 0.015625, '[1,1,1,0,0,0,1]': 0.015625, '[0,0,0,1,0,0,1]': 0.015625, '[1,1,0,1,0,0,1]': 0.015625, '[0,0,1,1,0,0,1]': 0.015625, '[1,1,1,1,0,0,1]': 0.015625, '[1,0,0,0,1,0,1]': 0.015625, '[0,1,0,0,1,0,1]': 0.015625, '[1,0,1,0,1,0,1]': 0.015625, '[0,1,1,0,1,0,1]': 0.015625, '[1,0,0,1,1,0,1]': 0.015625, '[0,1,0,1,1,0,1]': 0.015625, '[1,0,1,1,1,0,1]': 0.015625, '[0,1,1,1,1,0,1]': 0.015625, '[0,0,0,0,0,1,1]': 0.015625, '[1,1,0,0,0,1,1]': 0.015625, '[0,0,1,0,0,1,1]': 0.015625, '[1,1,1,0,0,1,1]': 0.015625, '[0,0,0,1,0,1,1]': 0.015625, '[1,1,0,1,0,1,1]': 0.015625, '[0,0,1,1,0,1,1]': 0.015625, '[1,1,1,1,0,1,1]': 0.015625, '[1,0,0,0,1,1,1]': 0.015625, '[0,1,0,0,1,1,1]': 0.015625, '[1,0,1,0,1,1,1]': 0.015625, '[0,1,1,0,1,1,1]': 0.015625, '[1,0,0,1,1,1,1]': 0.015625, '[0,1,0,1,1,1,1]': 0.015625, '[1,0,1,1,1,1,1]': 0.015625, '[0,1,1,1,1,1,1]': 0.015625}\n"
        }
      ],
      "execution_count": 23,
      "metadata": {
        "jupyter": {
          "source_hidden": false,
          "outputs_hidden": false
        },
        "nteract": {
          "transient": {
            "deleting": false
          }
        }
      },
      "id": "a133d166-74c6-4713-92b5-e3552e09d5ee"
    },
    {
      "cell_type": "code",
      "source": [
        "qsharp.azure.target(\"quantinuum.hqs-lt-s2-apival\")\r\n",
        "\r\n",
        "result = qsharp.azure.execute(RotateAndShiftCheckerBoard, N=3, shots=1000, jobName=\"QuantinuumApival-RotateAndShift\", timeout=240)"
      ],
      "outputs": [
        {
          "output_type": "stream",
          "name": "stdout",
          "text": "Loading package Microsoft.Quantum.Providers.Honeywell and dependencies...\nActive target is now quantinuum.hqs-lt-s2-apival\nSubmitting RotateAndShiftCheckerBoard to target quantinuum.hqs-lt-s2-apival...\nJob successfully submitted for 1000 shots.\n   Job name: QuantinuumApival-RotateAndShift\n   Job ID: 2d6b2e25-4e23-4e86-a99d-de632e10c986\nWaiting up to 240 seconds for Azure Quantum job to complete...\n[10:04:31] Current job status: Waiting\n[10:04:36] Current job status: Waiting\n[10:04:41] Current job status: Waiting\n[10:04:46] Current job status: Waiting\n[10:04:51] Current job status: Waiting\n[10:04:56] Current job status: Succeeded\n"
        }
      ],
      "execution_count": 24,
      "metadata": {
        "jupyter": {
          "source_hidden": false,
          "outputs_hidden": false
        },
        "nteract": {
          "transient": {
            "deleting": false
          }
        }
      },
      "id": "b60fd477-2b08-498b-9d3f-ffd91ff33cb5"
    },
    {
      "cell_type": "code",
      "source": [
        "print(result)"
      ],
      "outputs": [
        {
          "output_type": "stream",
          "name": "stdout",
          "text": "{'[0,0,0,0,0,0,0]': 1.0000000000000007}\n"
        }
      ],
      "execution_count": 25,
      "metadata": {
        "jupyter": {
          "source_hidden": false,
          "outputs_hidden": false
        },
        "nteract": {
          "transient": {
            "deleting": false
          }
        }
      },
      "id": "75586202-d7d4-4f8e-9c53-bb164fcc4863"
    },
    {
      "cell_type": "markdown",
      "source": [
        "The quantinuum apival simulator performs (mostly) as expected: does not actually simulate anything, it just returns the state of all 0s. For some reason the measurement is a little bit greaater than 1 ?"
      ],
      "metadata": {
        "nteract": {
          "transient": {
            "deleting": false
          }
        }
      },
      "id": "21924a66-1355-4594-a1c9-1231580159dc"
    },
    {
      "cell_type": "code",
      "source": [
        "qsharp.azure.target(\"quantinuum.hqs-lt-s2-sim\")\r\n",
        "\r\n",
        "quantinuum_result = qsharp.azure.execute(RotateAndShiftCheckerBoard, N=3, shots=1000, jobName=\"QuantinuumApival-RotateAndShift\", timeout=240)"
      ],
      "outputs": [
        {
          "output_type": "stream",
          "name": "stdout",
          "text": "Loading package Microsoft.Quantum.Providers.Honeywell and dependencies...\nActive target is now quantinuum.hqs-lt-s2-sim\nSubmitting RotateAndShiftCheckerBoard to target quantinuum.hqs-lt-s2-sim...\nJob successfully submitted for 1000 shots.\n   Job name: QuantinuumApival-RotateAndShift\n   Job ID: f6d92b7a-d114-49f0-b426-2456be9e5891\nWaiting up to 240 seconds for Azure Quantum job to complete...\n[10:07:52] Current job status: Waiting\n[10:07:57] Current job status: Waiting\n[10:08:02] Current job status: Waiting\n[10:08:07] Current job status: Waiting\n[10:08:12] Current job status: Waiting\n[10:08:17] Current job status: Waiting\n[10:08:22] Current job status: Waiting\n[10:08:27] Current job status: Waiting\n[10:08:32] Current job status: Waiting\n[10:08:37] Current job status: Waiting\n[10:08:42] Current job status: Waiting\n[10:08:47] Current job status: Waiting\n[10:08:53] Current job status: Waiting\n[10:08:58] Current job status: Waiting\n[10:09:03] Current job status: Waiting\n[10:09:08] Current job status: Waiting\n[10:09:13] Current job status: Waiting\n[10:09:18] Current job status: Waiting\n[10:09:23] Current job status: Waiting\n[10:09:28] Current job status: Finishing\n[10:09:33] Current job status: Succeeded\n"
        }
      ],
      "execution_count": 26,
      "metadata": {
        "jupyter": {
          "source_hidden": false,
          "outputs_hidden": false
        },
        "nteract": {
          "transient": {
            "deleting": false
          }
        }
      },
      "id": "83e9c162-5eec-4076-bd35-ed172ca40652"
    },
    {
      "cell_type": "code",
      "source": [
        "print(quantinuum_result)"
      ],
      "outputs": [
        {
          "output_type": "stream",
          "name": "stdout",
          "text": "{'[1,0,1,0,0,0,1]': 0.001, '[1,0,1,1,1,0,1]': 0.01800000000000001, '[0,0,0,1,0,1,1]': 0.01800000000000001, '[1,0,0,0,1,0,1]': 0.012000000000000004, '[0,0,0,1,0,0,0]': 0.013000000000000005, '[0,1,1,1,0,0,0]': 0.001, '[0,1,1,0,1,1,1]': 0.016000000000000007, '[1,0,0,1,1,0,0]': 0.017000000000000008, '[1,1,1,0,0,1,1]': 0.017000000000000008, '[1,1,0,0,0,0,1]': 0.009000000000000001, '[0,1,1,1,1,1,1]': 0.01900000000000001, '[0,0,1,1,0,0,0]': 0.014000000000000005, '[0,1,1,1,1,0,0]': 0.016000000000000007, '[0,0,0,1,0,1,0]': 0.012000000000000004, '[1,1,1,0,0,1,0]': 0.013000000000000005, '[1,0,1,1,1,1,1]': 0.013000000000000005, '[0,0,0,0,0,1,1]': 0.017000000000000008, '[1,1,0,1,0,1,0]': 0.01800000000000001, '[0,0,1,0,0,1,0]': 0.012000000000000004, '[0,0,1,1,0,0,1]': 0.01900000000000001, '[1,1,0,1,1,0,1]': 0.002, '[0,0,1,0,0,0,1]': 0.014000000000000005, '[0,1,1,0,1,0,0]': 0.014000000000000005, '[0,1,0,0,1,1,0]': 0.013000000000000005, '[1,1,1,1,0,0,0]': 0.012000000000000004, '[0,0,1,1,0,1,0]': 0.012000000000000004, '[0,0,1,0,0,1,1]': 0.02000000000000001, '[1,0,0,0,0,0,1]': 0.002, '[1,0,0,0,1,1,1]': 0.02000000000000001, '[1,0,1,0,1,0,0]': 0.010000000000000002, '[1,1,0,1,0,0,0]': 0.023000000000000013, '[1,1,1,1,0,0,1]': 0.017000000000000008, '[0,0,0,1,0,0,1]': 0.022000000000000013, '[0,1,0,1,1,0,0]': 0.008, '[1,1,0,0,0,0,0]': 0.016000000000000007, '[0,1,0,0,1,1,1]': 0.017000000000000008, '[1,1,1,1,0,1,1]': 0.022000000000000013, '[1,1,0,1,0,1,1]': 0.012000000000000004, '[1,0,1,0,0,1,0]': 0.002, '[1,0,0,0,1,1,0]': 0.011000000000000003, '[1,0,0,1,1,0,1]': 0.012000000000000004, '[1,0,0,1,0,1,1]': 0.002, '[0,0,0,0,0,0,1]': 0.013000000000000005, '[1,0,0,1,1,1,0]': 0.02000000000000001, '[0,1,0,1,1,1,1]': 0.015000000000000006, '[1,1,0,0,1,0,1]': 0.002, '[0,1,1,0,1,0,1]': 0.009000000000000001, '[0,1,1,1,1,0,1]': 0.017000000000000008, '[0,1,1,1,1,1,0]': 0.015000000000000006, '[0,0,1,1,0,1,1]': 0.02000000000000001, '[1,1,1,0,0,0,0]': 0.025000000000000015, '[1,0,1,0,1,0,1]': 0.008, '[0,1,0,0,1,0,1]': 0.015000000000000006, '[1,0,1,0,1,1,0]': 0.015000000000000006, '[0,0,0,0,0,1,0]': 0.011000000000000003, '[1,1,1,1,0,1,0]': 0.016000000000000007, '[1,1,0,0,1,0,0]': 0.002, '[0,1,0,1,1,0,1]': 0.012000000000000004, '[0,0,1,0,0,0,0]': 0.017000000000000008, '[0,0,0,1,1,0,0]': 0.001, '[0,1,0,1,1,1,0]': 0.014000000000000005, '[1,1,0,0,0,1,0]': 0.017000000000000008, '[1,1,1,0,0,0,1]': 0.012000000000000004, '[1,0,0,0,1,0,0]': 0.012000000000000004, '[0,1,1,0,1,1,0]': 0.016000000000000007, '[1,0,0,1,1,1,1]': 0.014000000000000005, '[1,0,1,0,1,1,1]': 0.013000000000000005, '[1,1,0,0,0,1,1]': 0.010000000000000002, '[0,1,0,0,1,0,0]': 0.012000000000000004, '[0,0,0,0,0,0,0]': 0.013000000000000005, '[1,1,1,0,1,1,1]': 0.002, '[0,0,0,1,1,1,1]': 0.002, '[1,1,0,0,1,1,1]': 0.001, '[1,1,0,0,1,1,0]': 0.002, '[1,1,0,1,0,0,1]': 0.007, '[1,0,1,1,1,1,0]': 0.016000000000000007, '[1,1,1,1,1,1,0]': 0.001, '[0,1,1,1,0,1,1]': 0.002, '[0,0,0,0,1,0,0]': 0.001, '[0,0,1,0,1,0,1]': 0.001, '[1,0,1,0,0,1,1]': 0.001, '[0,0,0,1,1,0,1]': 0.002, '[0,1,0,0,0,0,1]': 0.002, '[1,0,1,1,1,0,0]': 0.007, '[0,1,0,1,0,0,1]': 0.001, '[0,0,1,1,1,1,0]': 0.002, '[1,0,0,0,0,1,0]': 0.003, '[0,0,0,1,1,1,0]': 0.001, '[1,0,1,1,0,0,0]': 0.001, '[0,1,0,1,0,1,0]': 0.001, '[0,1,1,0,0,0,0]': 0.001, '[1,1,0,1,1,1,1]': 0.001, '[0,1,1,1,0,0,1]': 0.002, '[0,0,1,1,1,0,1]': 0.003, '[0,1,1,0,0,1,1]': 0.001, '[0,1,0,0,0,1,1]': 0.001, '[0,1,1,1,0,1,0]': 0.001, '[0,1,0,0,0,0,0]': 0.002, '[1,0,0,0,0,0,0]': 0.001, '[1,1,1,0,1,0,0]': 0.001, '[1,1,1,1,1,1,1]': 0.001, '[1,0,0,1,0,0,0]': 0.001, '[0,0,1,0,1,1,1]': 0.002, '[1,1,1,1,1,0,0]': 0.001, '[0,0,1,0,1,0,0]': 0.001}\n"
        }
      ],
      "execution_count": 27,
      "metadata": {
        "jupyter": {
          "source_hidden": false,
          "outputs_hidden": false
        },
        "nteract": {
          "transient": {
            "deleting": false
          }
        }
      },
      "id": "fbe56541-70c5-4b9d-a24b-96c472c89e0f"
    },
    {
      "cell_type": "code",
      "source": [
        "qsharp.azure.target(\"ionq.qpu\")\r\n",
        "\r\n",
        "qpu_result = qsharp.azure.execute(RotateAndShiftCheckerBoard, N=3, shots=1000, jobName=\"IonQQpu-RotateAndShift\", timeout=240)"
      ],
      "outputs": [
        {
          "output_type": "stream",
          "name": "stdout",
          "text": "Loading package Microsoft.Quantum.Providers.IonQ and dependencies...\nActive target is now ionq.qpu\nSubmitting RotateAndShiftCheckerBoard to target ionq.qpu...\nJob successfully submitted for 1000 shots.\n   Job name: IonQQpu-RotateAndShift\n   Job ID: a266e991-2ffc-4a77-9202-0df9317f23a5\nWaiting up to 240 seconds for Azure Quantum job to complete...\n[10:12:37] Current job status: Waiting\n[10:12:42] Current job status: Waiting\n[10:12:47] Current job status: Waiting\n[10:12:52] Current job status: Waiting\n[10:12:57] Current job status: Waiting\n[10:13:02] Current job status: Waiting\n[10:13:07] Current job status: Waiting\n[10:13:12] Current job status: Waiting\n[10:13:17] Current job status: Waiting\n[10:13:22] Current job status: Waiting\n[10:13:27] Current job status: Waiting\n[10:13:32] Current job status: Waiting\n[10:13:38] Current job status: Waiting\n[10:13:43] Current job status: Waiting\n[10:13:48] Current job status: Waiting\n[10:13:53] Current job status: Waiting\n[10:13:58] Current job status: Waiting\n[10:14:03] Current job status: Waiting\n[10:14:08] Current job status: Waiting\n[10:14:13] Current job status: Waiting\n[10:14:18] Current job status: Waiting\n"
        },
        {
          "output_type": "error",
          "ename": "TimeoutError",
          "evalue": "Timeout waiting for output",
          "traceback": [
            "\u001b[0;31m---------------------------------------------------------------------------\u001b[0m",
            "\u001b[0;31mTimeoutError\u001b[0m                              Traceback (most recent call last)",
            "\u001b[0;32m/tmp/ipykernel_1938/271295055.py\u001b[0m in \u001b[0;36m<module>\u001b[0;34m\u001b[0m\n\u001b[1;32m      1\u001b[0m \u001b[0mqsharp\u001b[0m\u001b[0;34m.\u001b[0m\u001b[0mazure\u001b[0m\u001b[0;34m.\u001b[0m\u001b[0mtarget\u001b[0m\u001b[0;34m(\u001b[0m\u001b[0;34m\"ionq.qpu\"\u001b[0m\u001b[0;34m)\u001b[0m\u001b[0;34m\u001b[0m\u001b[0;34m\u001b[0m\u001b[0m\n\u001b[1;32m      2\u001b[0m \u001b[0;34m\u001b[0m\u001b[0m\n\u001b[0;32m----> 3\u001b[0;31m \u001b[0mqpu_result\u001b[0m \u001b[0;34m=\u001b[0m \u001b[0mqsharp\u001b[0m\u001b[0;34m.\u001b[0m\u001b[0mazure\u001b[0m\u001b[0;34m.\u001b[0m\u001b[0mexecute\u001b[0m\u001b[0;34m(\u001b[0m\u001b[0mRotateAndShiftCheckerBoard\u001b[0m\u001b[0;34m,\u001b[0m \u001b[0mN\u001b[0m\u001b[0;34m=\u001b[0m\u001b[0;36m3\u001b[0m\u001b[0;34m,\u001b[0m \u001b[0mshots\u001b[0m\u001b[0;34m=\u001b[0m\u001b[0;36m1000\u001b[0m\u001b[0;34m,\u001b[0m \u001b[0mjobName\u001b[0m\u001b[0;34m=\u001b[0m\u001b[0;34m\"IonQQpu-RotateAndShift\"\u001b[0m\u001b[0;34m,\u001b[0m \u001b[0mtimeout\u001b[0m\u001b[0;34m=\u001b[0m\u001b[0;36m240\u001b[0m\u001b[0;34m)\u001b[0m\u001b[0;34m\u001b[0m\u001b[0;34m\u001b[0m\u001b[0m\n\u001b[0m",
            "\u001b[0;32m/usr/local/lib/python3.7/site-packages/qsharp/azure.py\u001b[0m in \u001b[0;36mexecute\u001b[0;34m(op, **params)\u001b[0m\n\u001b[1;32m    137\u001b[0m     \u001b[0mSee\u001b[0m \u001b[0mhttps\u001b[0m\u001b[0;34m:\u001b[0m\u001b[0;34m//\u001b[0m\u001b[0mdocs\u001b[0m\u001b[0;34m.\u001b[0m\u001b[0mmicrosoft\u001b[0m\u001b[0;34m.\u001b[0m\u001b[0mcom\u001b[0m\u001b[0;34m/\u001b[0m\u001b[0mqsharp\u001b[0m\u001b[0;34m/\u001b[0m\u001b[0mapi\u001b[0m\u001b[0;34m/\u001b[0m\u001b[0miqsharp\u001b[0m\u001b[0;34m-\u001b[0m\u001b[0mmagic\u001b[0m\u001b[0;34m/\u001b[0m\u001b[0mazure\u001b[0m\u001b[0;34m.\u001b[0m\u001b[0mexecute\u001b[0m \u001b[0;32mfor\u001b[0m \u001b[0mmore\u001b[0m \u001b[0mdetails\u001b[0m\u001b[0;34m.\u001b[0m\u001b[0;34m\u001b[0m\u001b[0;34m\u001b[0m\u001b[0m\n\u001b[1;32m    138\u001b[0m     \"\"\"\n\u001b[0;32m--> 139\u001b[0;31m     \u001b[0mresult\u001b[0m \u001b[0;34m=\u001b[0m \u001b[0mqsharp\u001b[0m\u001b[0;34m.\u001b[0m\u001b[0mclient\u001b[0m\u001b[0;34m.\u001b[0m\u001b[0m_execute_callable_magic\u001b[0m\u001b[0;34m(\u001b[0m\u001b[0;34m\"azure.execute\"\u001b[0m\u001b[0;34m,\u001b[0m \u001b[0mop\u001b[0m\u001b[0;34m,\u001b[0m \u001b[0mraise_on_stderr\u001b[0m\u001b[0;34m=\u001b[0m\u001b[0;32mFalse\u001b[0m\u001b[0;34m,\u001b[0m \u001b[0;34m**\u001b[0m\u001b[0mparams\u001b[0m\u001b[0;34m)\u001b[0m\u001b[0;34m\u001b[0m\u001b[0;34m\u001b[0m\u001b[0m\n\u001b[0m\u001b[1;32m    140\u001b[0m     \u001b[0;32mif\u001b[0m \u001b[0;34m\"error_code\"\u001b[0m \u001b[0;32min\u001b[0m \u001b[0mresult\u001b[0m\u001b[0;34m:\u001b[0m \u001b[0;32mraise\u001b[0m \u001b[0mAzureError\u001b[0m\u001b[0;34m(\u001b[0m\u001b[0mresult\u001b[0m\u001b[0;34m)\u001b[0m\u001b[0;34m\u001b[0m\u001b[0;34m\u001b[0m\u001b[0m\n\u001b[1;32m    141\u001b[0m     \u001b[0;32mreturn\u001b[0m \u001b[0mresult\u001b[0m\u001b[0;34m\u001b[0m\u001b[0;34m\u001b[0m\u001b[0m\n",
            "\u001b[0;32m/usr/local/lib/python3.7/site-packages/qsharp/clients/iqsharp.py\u001b[0m in \u001b[0;36m_execute_callable_magic\u001b[0;34m(self, magic, op, raise_on_stderr, _quiet_, **kwargs)\u001b[0m\n\u001b[1;32m    294\u001b[0m             \u001b[0mraise_on_stderr\u001b[0m\u001b[0;34m=\u001b[0m\u001b[0mraise_on_stderr\u001b[0m\u001b[0;34m,\u001b[0m\u001b[0;34m\u001b[0m\u001b[0;34m\u001b[0m\u001b[0m\n\u001b[1;32m    295\u001b[0m             \u001b[0m_quiet_\u001b[0m\u001b[0;34m=\u001b[0m\u001b[0m_quiet_\u001b[0m\u001b[0;34m,\u001b[0m\u001b[0;34m\u001b[0m\u001b[0;34m\u001b[0m\u001b[0m\n\u001b[0;32m--> 296\u001b[0;31m             \u001b[0;34m**\u001b[0m\u001b[0mkwargs\u001b[0m\u001b[0;34m\u001b[0m\u001b[0;34m\u001b[0m\u001b[0m\n\u001b[0m\u001b[1;32m    297\u001b[0m         )\n\u001b[1;32m    298\u001b[0m \u001b[0;34m\u001b[0m\u001b[0m\n",
            "\u001b[0;32m/usr/local/lib/python3.7/site-packages/qsharp/clients/iqsharp.py\u001b[0m in \u001b[0;36m_execute_magic\u001b[0;34m(self, magic, raise_on_stderr, _quiet_, **kwargs)\u001b[0m\n\u001b[1;32m    282\u001b[0m         return self._execute(\n\u001b[1;32m    283\u001b[0m             \u001b[0;34mf'%{magic} {json.dumps(map_tuples(kwargs))}'\u001b[0m\u001b[0;34m,\u001b[0m\u001b[0;34m\u001b[0m\u001b[0;34m\u001b[0m\u001b[0m\n\u001b[0;32m--> 284\u001b[0;31m             \u001b[0mraise_on_stderr\u001b[0m\u001b[0;34m=\u001b[0m\u001b[0mraise_on_stderr\u001b[0m\u001b[0;34m,\u001b[0m \u001b[0m_quiet_\u001b[0m\u001b[0;34m=\u001b[0m\u001b[0m_quiet_\u001b[0m\u001b[0;34m,\u001b[0m \u001b[0m_timeout_\u001b[0m\u001b[0;34m=\u001b[0m\u001b[0m_timeout_\u001b[0m\u001b[0;34m\u001b[0m\u001b[0;34m\u001b[0m\u001b[0m\n\u001b[0m\u001b[1;32m    285\u001b[0m         )\n\u001b[1;32m    286\u001b[0m \u001b[0;34m\u001b[0m\u001b[0m\n",
            "\u001b[0;32m/usr/local/lib/python3.7/site-packages/qsharp/clients/iqsharp.py\u001b[0m in \u001b[0;36m_execute\u001b[0;34m(self, input, return_full_result, raise_on_stderr, output_hook, display_data_handler, _timeout_, _quiet_, **kwargs)\u001b[0m\n\u001b[1;32m    370\u001b[0m                 \u001b[0;32mraise\u001b[0m \u001b[0mAlreadyExecutingError\u001b[0m\u001b[0;34m(\u001b[0m\u001b[0;34m\"Cannot execute through the IQ# client while another execution is completing.\"\u001b[0m\u001b[0;34m)\u001b[0m\u001b[0;34m\u001b[0m\u001b[0;34m\u001b[0m\u001b[0m\n\u001b[1;32m    371\u001b[0m             \u001b[0mself\u001b[0m\u001b[0;34m.\u001b[0m\u001b[0m_busy\u001b[0m \u001b[0;34m=\u001b[0m \u001b[0;32mTrue\u001b[0m\u001b[0;34m\u001b[0m\u001b[0;34m\u001b[0m\u001b[0m\n\u001b[0;32m--> 372\u001b[0;31m             \u001b[0mreply\u001b[0m \u001b[0;34m=\u001b[0m \u001b[0mself\u001b[0m\u001b[0;34m.\u001b[0m\u001b[0mkernel_client\u001b[0m\u001b[0;34m.\u001b[0m\u001b[0mexecute_interactive\u001b[0m\u001b[0;34m(\u001b[0m\u001b[0minput\u001b[0m\u001b[0;34m,\u001b[0m \u001b[0mtimeout\u001b[0m\u001b[0;34m=\u001b[0m\u001b[0m_timeout_\u001b[0m\u001b[0;34m,\u001b[0m \u001b[0moutput_hook\u001b[0m\u001b[0;34m=\u001b[0m\u001b[0m_output_hook\u001b[0m\u001b[0;34m,\u001b[0m \u001b[0;34m**\u001b[0m\u001b[0mkwargs\u001b[0m\u001b[0;34m)\u001b[0m\u001b[0;34m\u001b[0m\u001b[0;34m\u001b[0m\u001b[0m\n\u001b[0m\u001b[1;32m    373\u001b[0m         \u001b[0;32mfinally\u001b[0m\u001b[0;34m:\u001b[0m\u001b[0;34m\u001b[0m\u001b[0;34m\u001b[0m\u001b[0m\n\u001b[1;32m    374\u001b[0m             \u001b[0mself\u001b[0m\u001b[0;34m.\u001b[0m\u001b[0m_busy\u001b[0m \u001b[0;34m=\u001b[0m \u001b[0;32mFalse\u001b[0m\u001b[0;34m\u001b[0m\u001b[0;34m\u001b[0m\u001b[0m\n",
            "\u001b[0;32m/usr/local/lib/python3.7/site-packages/jupyter_client/blocking/client.py\u001b[0m in \u001b[0;36mexecute_interactive\u001b[0;34m(self, code, silent, store_history, user_expressions, allow_stdin, stop_on_error, timeout, output_hook, stdin_hook)\u001b[0m\n\u001b[1;32m    319\u001b[0m             \u001b[0mevents\u001b[0m \u001b[0;34m=\u001b[0m \u001b[0mdict\u001b[0m\u001b[0;34m(\u001b[0m\u001b[0mpoller\u001b[0m\u001b[0;34m.\u001b[0m\u001b[0mpoll\u001b[0m\u001b[0;34m(\u001b[0m\u001b[0mtimeout_ms\u001b[0m\u001b[0;34m)\u001b[0m\u001b[0;34m)\u001b[0m\u001b[0;34m\u001b[0m\u001b[0;34m\u001b[0m\u001b[0m\n\u001b[1;32m    320\u001b[0m             \u001b[0;32mif\u001b[0m \u001b[0;32mnot\u001b[0m \u001b[0mevents\u001b[0m\u001b[0;34m:\u001b[0m\u001b[0;34m\u001b[0m\u001b[0;34m\u001b[0m\u001b[0m\n\u001b[0;32m--> 321\u001b[0;31m                 \u001b[0;32mraise\u001b[0m \u001b[0mTimeoutError\u001b[0m\u001b[0;34m(\u001b[0m\u001b[0;34m\"Timeout waiting for output\"\u001b[0m\u001b[0;34m)\u001b[0m\u001b[0;34m\u001b[0m\u001b[0;34m\u001b[0m\u001b[0m\n\u001b[0m\u001b[1;32m    322\u001b[0m             \u001b[0;32mif\u001b[0m \u001b[0mstdin_socket\u001b[0m \u001b[0;32min\u001b[0m \u001b[0mevents\u001b[0m\u001b[0;34m:\u001b[0m\u001b[0;34m\u001b[0m\u001b[0;34m\u001b[0m\u001b[0m\n\u001b[1;32m    323\u001b[0m                 \u001b[0mreq\u001b[0m \u001b[0;34m=\u001b[0m \u001b[0mself\u001b[0m\u001b[0;34m.\u001b[0m\u001b[0mstdin_channel\u001b[0m\u001b[0;34m.\u001b[0m\u001b[0mget_msg\u001b[0m\u001b[0;34m(\u001b[0m\u001b[0mtimeout\u001b[0m\u001b[0;34m=\u001b[0m\u001b[0;36m0\u001b[0m\u001b[0;34m)\u001b[0m\u001b[0;34m\u001b[0m\u001b[0;34m\u001b[0m\u001b[0m\n",
            "\u001b[0;31mTimeoutError\u001b[0m: Timeout waiting for output"
          ]
        }
      ],
      "execution_count": 28,
      "metadata": {
        "jupyter": {
          "source_hidden": false,
          "outputs_hidden": false
        },
        "nteract": {
          "transient": {
            "deleting": false
          }
        }
      },
      "id": "0c041cf9-a793-42dd-ba24-360d631313af"
    },
    {
      "cell_type": "code",
      "source": [
        "job_id = 'a266e991-2ffc-4a77-9202-0df9317f23a5'\r\n",
        "status = qsharp.azure.status(job_id)\r\n",
        "print(status)\r\n",
        "ionq_qpu_result = qsharp.azure.output(job_id)\r\n",
        "print(ionq_qpu_result)"
      ],
      "outputs": [
        {
          "output_type": "stream",
          "name": "stdout",
          "text": "{'id': 'a266e991-2ffc-4a77-9202-0df9317f23a5', 'name': 'IonQQpu-RotateAndShift', 'status': 'Succeeded', 'uri': 'https://portal.azure.com/#@microsoft.onmicrosoft.com/resource/subscriptions/b0c3bbe3-7123-4ba4-9aa2-57d9845f4a1d/resourceGroups/AzureQuantum/providers/Microsoft.Quantum/Workspaces/qchack-2022-b/job_management?microsoft_azure_quantum_jobid=a266e991-2ffc-4a77-9202-0df9317f23a5', 'provider': 'ionq', 'target': 'ionq.qpu', 'creation_time': '2022-04-10T10:12:32.6925898+00:00', 'begin_execution_time': '2022-04-10T10:23:44.249+00:00', 'end_execution_time': '2022-04-10T10:23:56.883+00:00', 'cost_estimate': '$0.00'}\n{'[0,0,0,0,0,0,0]': 0.016, '[1,0,0,0,0,0,0]': 0.003, '[0,1,0,0,0,0,0]': 0.005, '[1,1,0,0,0,0,0]': 0.026, '[0,0,1,0,0,0,0]': 0.01, '[1,0,1,0,0,0,0]': 0.002, '[0,1,1,0,0,0,0]': 0.001, '[1,1,1,0,0,0,0]': 0.014, '[0,0,0,1,0,0,0]': 0.003, '[1,0,0,1,0,0,0]': 0.001, '[0,1,0,1,0,0,0]': 0.001, '[1,1,0,1,0,0,0]': 0.002, '[0,0,1,1,0,0,0]': 0.002, '[1,0,1,1,0,0,0]': 0.003, '[0,1,1,1,0,0,0]': 0.001, '[1,1,1,1,0,0,0]': 0.002, '[0,0,0,0,1,0,0]': 0.005, '[1,0,0,0,1,0,0]': 0.011, '[0,1,0,0,1,0,0]': 0.016, '[1,1,0,0,1,0,0]': 0.001, '[0,0,1,0,1,0,0]': 0.008, '[1,0,1,0,1,0,0]': 0.005, '[0,1,1,0,1,0,0]': 0.015, '[1,1,1,0,1,0,0]': 0.003, '[0,0,0,1,1,0,0]': 0.003, '[1,0,0,1,1,0,0]': 0.039, '[0,1,0,1,1,0,0]': 0.039, '[1,1,0,1,1,0,0]': 0.002, '[1,0,1,1,1,0,0]': 0.025, '[0,1,1,1,1,0,0]': 0.034, '[1,1,1,1,1,0,0]': 0.002, '[0,0,0,0,0,1,0]': 0.036, '[1,0,0,0,0,1,0]': 0.002, '[1,1,0,0,0,1,0]': 0.044, '[0,0,1,0,0,1,0]': 0.015, '[1,0,1,0,0,1,0]': 0.002, '[0,1,1,0,0,1,0]': 0.003, '[1,1,1,0,0,1,0]': 0.029, '[0,0,0,1,0,1,0]': 0.002, '[1,0,0,1,0,1,0]': 0.002, '[0,1,0,1,0,1,0]': 0.002, '[1,1,0,1,0,1,0]': 0.006, '[1,0,1,1,0,1,0]': 0.001, '[0,1,1,1,0,1,0]': 0.003, '[1,1,1,1,0,1,0]': 0.004, '[0,0,0,0,1,1,0]': 0.005, '[1,0,0,0,1,1,0]': 0.005, '[0,1,0,0,1,1,0]': 0.003, '[1,1,0,0,1,1,0]': 0.001, '[0,0,1,0,1,1,0]': 0.002, '[1,0,1,0,1,1,0]': 0.002, '[0,1,1,0,1,1,0]': 0.007, '[1,1,1,0,1,1,0]': 0.001, '[0,0,0,1,1,1,0]': 0.009, '[1,0,0,1,1,1,0]': 0.021, '[0,1,0,1,1,1,0]': 0.022, '[0,0,1,1,1,1,0]': 0.005, '[1,0,1,1,1,1,0]': 0.022, '[0,1,1,1,1,1,0]': 0.025, '[1,1,1,1,1,1,0]': 0.005, '[0,0,0,0,0,0,1]': 0.035, '[1,0,0,0,0,0,1]': 0.002, '[0,1,0,0,0,0,1]': 0.003, '[1,1,0,0,0,0,1]': 0.057, '[0,0,1,0,0,0,1]': 0.04, '[1,0,1,0,0,0,1]': 0.006, '[0,1,1,0,0,0,1]': 0.001, '[1,1,1,0,0,0,1]': 0.039, '[1,0,0,1,0,0,1]': 0.001, '[0,1,0,1,0,0,1]': 0.001, '[1,1,0,1,0,0,1]': 0.003, '[0,0,1,1,0,0,1]': 0.002, '[1,0,1,1,0,0,1]': 0.001, '[1,1,1,1,0,0,1]': 0.001, '[0,0,0,0,1,0,1]': 0.001, '[1,0,0,0,1,0,1]': 0.006, '[0,1,0,0,1,0,1]': 0.002, '[1,1,0,0,1,0,1]': 0.001, '[0,0,1,0,1,0,1]': 0.002, '[1,0,1,0,1,0,1]': 0.003, '[0,0,0,1,1,0,1]': 0.006, '[1,0,0,1,1,0,1]': 0.01, '[0,1,0,1,1,0,1]': 0.018, '[1,1,0,1,1,0,1]': 0.002, '[0,0,1,1,1,0,1]': 0.003, '[1,0,1,1,1,0,1]': 0.009, '[0,1,1,1,1,0,1]': 0.01, '[1,1,1,1,1,0,1]': 0.001, '[0,0,0,0,0,1,1]': 0.011, '[1,0,0,0,0,1,1]': 0.002, '[0,1,0,0,0,1,1]': 0.002, '[1,1,0,0,0,1,1]': 0.012, '[0,0,1,0,0,1,1]': 0.009, '[1,0,1,0,0,1,1]': 0.001, '[0,1,1,0,0,1,1]': 0.001, '[1,1,1,0,0,1,1]': 0.01, '[0,0,0,1,0,1,1]': 0.006, '[1,0,0,1,0,1,1]': 0.001, '[1,1,0,1,0,1,1]': 0.003, '[0,0,1,1,0,1,1]': 0.002, '[1,0,0,0,1,1,1]': 0.005, '[0,1,0,0,1,1,1]': 0.004, '[1,1,0,0,1,1,1]': 0.001, '[0,1,1,0,1,1,1]': 0.001, '[1,1,1,0,1,1,1]': 0.002, '[0,0,0,1,1,1,1]': 0.007, '[1,0,0,1,1,1,1]': 0.012, '[0,1,0,1,1,1,1]': 0.02, '[0,0,1,1,1,1,1]': 0.004, '[1,0,1,1,1,1,1]': 0.012, '[0,1,1,1,1,1,1]': 0.019, '[1,1,1,1,1,1,1]': 0.001}\n"
        }
      ],
      "execution_count": 31,
      "metadata": {
        "jupyter": {
          "source_hidden": false,
          "outputs_hidden": false
        },
        "nteract": {
          "transient": {
            "deleting": false
          }
        }
      },
      "id": "bcf1c624-bd87-40b5-96cd-1e0ffbf6e1e6"
    },
    {
      "cell_type": "code",
      "source": [],
      "outputs": [],
      "execution_count": null,
      "metadata": {
        "jupyter": {
          "source_hidden": false,
          "outputs_hidden": false
        },
        "nteract": {
          "transient": {
            "deleting": false
          }
        }
      },
      "id": "e5bfea16-0e77-4383-bf68-681947be0246"
    },
    {
      "cell_type": "markdown",
      "source": [
        "Let's try to visualise these results. The functions below transforms the raw data and rebuilds the image based on the measurements.\r\n",
        "As mentioned previously, each shot measure the entire image, and produces a color for a single pixel. By running the circuit many times, we can obtain sufficient information about each pixel to deduce an approximate state of it.\r\n",
        "For example, if out of 15 results for the pixel (x,y), we obtained 10 times the state |0xy> and 5 times the state |1xy>, then the circuit is more likely to keep the pixel (x,y) as blank; if we obtain the state |1xy> every time (as in the simulations), then the pixel is more certainly colored.\r\n"
      ],
      "metadata": {
        "nteract": {
          "transient": {
            "deleting": false
          }
        }
      },
      "id": "edd84fe1-fdaf-4721-95d8-e862d12e7c4a"
    },
    {
      "cell_type": "code",
      "source": [
        "import numpy as np\r\n",
        "from matplotlib import pyplot as plt\r\n",
        "import matplotlib\r\n",
        "import json\r\n",
        "\r\n",
        "def preprocess_data(measurement_data):\r\n",
        "    # the data is of the form dict(measured_state:value)\r\n",
        "    # we have to extract the values for both colors for each pixel\r\n",
        "    # we store the mapping (x,y) -> (measurement_0, measurement_1), where measurement_0 is for the |0> state of color, and measurement_1 is for the |1> state\r\n",
        "    pixel_map = {}\r\n",
        "    for state, value in measurement_data.items():\r\n",
        "        state_list = json.loads(state) #hackish, but should work\r\n",
        "        color = state_list[0]\r\n",
        "        #compute the pixel coordinates from the encoded state\r\n",
        "        x = state_list[1] + 2*state_list[2] + 4*state_list[3]\r\n",
        "        y = state_list[4] + 2*state_list[5] + 4*state_list[6]\r\n",
        "        if color == 0:\r\n",
        "            res = (value, 0)\r\n",
        "        else:\r\n",
        "            res = (0, value)\r\n",
        "        if (x,y) in pixel_map:\r\n",
        "            pixel_map[(x,y)] = (pixel_map[(x,y)][0] + res[0], pixel_map[(x,y)][1] + res[1])\r\n",
        "        else:\r\n",
        "            pixel_map[(x,y)] = res\r\n",
        "    return pixel_map\r\n",
        "\r\n",
        "def draw_pixel_map(pixel_map):\r\n",
        "    N=8\r\n",
        "    data = np.ones((N, N)) * np.nan\r\n",
        "\r\n",
        "    fig, ax = plt.subplots(1, 1, tight_layout=True)\r\n",
        "    my_cmap = matplotlib.colors.ListedColormap([(0.0, 0.0, 0.0),(0.33, 0.33, 0.33),(0.66, 0.66, 0.66),(1.0, 1.0, 1.0)])\r\n",
        "    my_cmap.set_bad(color='w', alpha=0)\r\n",
        "    \r\n",
        "    for pixel, values in pixel_map.items():\r\n",
        "        if values[0] < 0.005: # hardcoded minimum treshold\r\n",
        "            data[pixel[0], pixel[1]] = 0    # black\r\n",
        "        elif values[1] < 0.005:\r\n",
        "            data[pixel[0], pixel[1]] = 3    # white\r\n",
        "        elif values[1] < values[0]:\r\n",
        "            data[pixel[0], pixel[1]] = 2    # light gray\r\n",
        "        else:\r\n",
        "            data[pixel[0], pixel[1]] = 1    # dark gray\r\n",
        "        \r\n",
        "\r\n",
        "    for x in range(N + 1):\r\n",
        "        ax.axhline(x, lw=2, color='k', zorder=5)\r\n",
        "        ax.axvline(x, lw=2, color='k', zorder=5)\r\n",
        "    # draw the boxes\r\n",
        "    ax.imshow(data, interpolation='none', cmap=my_cmap, extent=[0, N, 0, N], zorder=0)\r\n",
        "    # turn off the axis labels\r\n",
        "    ax.axis('off')\r\n",
        "\r\n"
      ],
      "outputs": [],
      "execution_count": 45,
      "metadata": {
        "jupyter": {
          "source_hidden": false,
          "outputs_hidden": false
        },
        "nteract": {
          "transient": {
            "deleting": false
          }
        }
      },
      "id": "f74b4bd3-adfd-4a96-9652-a5b969dee718"
    },
    {
      "cell_type": "code",
      "source": [
        "ionq_simulator = qsharp.azure.output('29b6a6f5-1162-41bb-9bcd-8e2b43151881') #ionq simulator\r\n",
        "\r\n",
        "pixels = preprocess_data(ionq_simulator)\r\n",
        "draw_pixel_map(pixels)\r\n",
        "\r\n",
        "quantinuum_result = qsharp.azure.output('f6d92b7a-d114-49f0-b426-2456be9e5891')\r\n",
        "pixels = preprocess_data(quantinuum_result)\r\n",
        "draw_pixel_map(pixels)\r\n",
        "\r\n",
        "ionq_qpu_result = qsharp.azure.output('a266e991-2ffc-4a77-9202-0df9317f23a5')\r\n",
        "pixels = preprocess_data(ionq_qpu_result)\r\n",
        "draw_pixel_map(pixels)\r\n",
        "\r\n"
      ],
      "outputs": [
        {
          "output_type": "display_data",
          "data": {
            "text/plain": "<Figure size 432x288 with 1 Axes>",
            "image/png": "[encoded data removed]"
          },
          "metadata": {
            "needs_background": "light"
          }
        },
        {
          "output_type": "display_data",
          "data": {
            "text/plain": "<Figure size 432x288 with 1 Axes>",
            "image/png": "[encoded data removed]"
          },
          "metadata": {
            "needs_background": "light"
          }
        },
        {
          "output_type": "display_data",
          "data": {
            "text/plain": "<Figure size 432x288 with 1 Axes>",
            "image/png": "[encoded data removed]"
          },
          "metadata": {
            "needs_background": "light"
          }
        }
      ],
      "execution_count": 50,
      "metadata": {
        "jupyter": {
          "source_hidden": false,
          "outputs_hidden": false
        },
        "nteract": {
          "transient": {
            "deleting": false
          }
        }
      },
      "id": "9c4f1767-4f48-4520-ac19-808b821945c9"
    },
    {
      "cell_type": "markdown",
      "source": [
        "What nice images! The first one is the perfect simulation of ionq; The second simulation is on the (slightly) noisy quantinuum device, and it is still good.\r\n",
        "The third run, on the ionq.qpu, is very noisy, but the image is still somewhat recognizable."
      ],
      "metadata": {
        "nteract": {
          "transient": {
            "deleting": false
          }
        }
      },
      "id": "deead1d3-47bc-4757-a820-8059c6fe7444"
    }
  ],
  "metadata": {
    "kernel_info": {
      "name": "python3"
    },
    "kernelspec": {
      "name": "python3",
      "language": "python",
      "display_name": "Python 3 (ipykernel)"
    },
    "language_info": {
      "name": "python",
      "version": "3.7.13",
      "mimetype": "text/x-python",
      "codemirror_mode": {
        "name": "ipython",
        "version": 3
      },
      "pygments_lexer": "ipython3",
      "nbconvert_exporter": "python",
      "file_extension": ".py"
    },
    "nteract": {
      "version": "nteract-front-end@1.0.0"
    }
  },
  "nbformat": 4,
  "nbformat_minor": 5
}