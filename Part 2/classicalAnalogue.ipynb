{
 "cells": [
  {
   "cell_type": "code",
   "execution_count": 1,
   "id": "5a00cb5b-71d1-432d-9ea2-28875a5cd974",
   "metadata": {},
   "outputs": [
    {
     "name": "stdout",
     "output_type": "stream",
     "text": [
      "-29040601\n"
     ]
    }
   ],
   "source": [
    "from PIL import Image\n",
    "\n",
    "# load image\n",
    "img = Image.open('8kamogus.jpg').convert('RGB')\n",
    "pixel = img.load()\n",
    "\n",
    "# calculate the score\n",
    "contrast = 0\n",
    "w=img.size[0]\n",
    "h=img.size[1]\n",
    "for i in range(w):\n",
    "  for j in range(h):\n",
    "      if pixel[i, j] == (255, 255, 255):\n",
    "          contrast += 1\n",
    "      elif pixel[i, j] == (0, 0, 0):\n",
    "          contrast -= 1\n",
    "print(contrast)"
   ]
  },
  {
   "cell_type": "markdown",
   "id": "88228f8b-73ac-4f1c-969b-65d8ddf677cf",
   "metadata": {},
   "source": [
    "We can see that searching for acceptable pixel values by searching through the 8000 pixels is computationally intensive. \n",
    "In this case, the i5-2520 on my thinkpad takes about 37.90s to calculate which means:\n",
    "1) As each pixel is visited only once, this asserts the time complexity is O(n). \n",
    "2) 37.90ms to resolve 8000 pixels is 3790ms/8000px=approximately 0.47375px/ms\n",
    "3) 17.06ms to resolve 8k via the Graviton2 cpu on aws is 0.21325px/ms\n",
    "4) The m6g aws server is 2.22157 times faster at reading through the array. Comparable to an i7-8550U(for iGPU test)"
   ]
  },
  {
   "cell_type": "code",
   "execution_count": null,
   "id": "9d5784e2-fa9b-4520-917a-f5d6f71e2368",
   "metadata": {},
   "outputs": [],
   "source": []
  }
 ],
 "metadata": {
  "kernelspec": {
   "display_name": "Python 3",
   "language": "python",
   "name": "python3"
  },
  "language_info": {
   "codemirror_mode": {
    "name": "ipython",
    "version": 3
   },
   "file_extension": ".py",
   "mimetype": "text/x-python",
   "name": "python",
   "nbconvert_exporter": "python",
   "pygments_lexer": "ipython3",
   "version": "3.8.8"
  }
 },
 "nbformat": 4,
 "nbformat_minor": 5
}
